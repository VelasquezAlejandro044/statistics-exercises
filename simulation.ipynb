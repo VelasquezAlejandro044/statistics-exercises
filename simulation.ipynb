{
 "cells": [
  {
   "cell_type": "code",
   "execution_count": 2,
   "id": "d345ff7b",
   "metadata": {},
   "outputs": [],
   "source": [
    "import numpy as np\n",
    "import pandas as pd\n",
    "\n",
    "import viz # curriculum example visualizations\n",
    "\n",
    "np.random.seed(29)\n"
   ]
  },
  {
   "cell_type": "markdown",
   "id": "ed1c297b",
   "metadata": {},
   "source": [
    "# 1\n",
    "\n",
    "\n",
    "How likely is it that you roll doubles when rolling two dice?"
   ]
  },
  {
   "cell_type": "code",
   "execution_count": 3,
   "id": "b8d560f2",
   "metadata": {},
   "outputs": [
    {
     "data": {
      "text/html": [
       "<div>\n",
       "<style scoped>\n",
       "    .dataframe tbody tr th:only-of-type {\n",
       "        vertical-align: middle;\n",
       "    }\n",
       "\n",
       "    .dataframe tbody tr th {\n",
       "        vertical-align: top;\n",
       "    }\n",
       "\n",
       "    .dataframe thead th {\n",
       "        text-align: right;\n",
       "    }\n",
       "</style>\n",
       "<table border=\"1\" class=\"dataframe\">\n",
       "  <thead>\n",
       "    <tr style=\"text-align: right;\">\n",
       "      <th></th>\n",
       "      <th>0</th>\n",
       "      <th>1</th>\n",
       "    </tr>\n",
       "  </thead>\n",
       "  <tbody>\n",
       "    <tr>\n",
       "      <th>0</th>\n",
       "      <td>6</td>\n",
       "      <td>4</td>\n",
       "    </tr>\n",
       "    <tr>\n",
       "      <th>1</th>\n",
       "      <td>5</td>\n",
       "      <td>6</td>\n",
       "    </tr>\n",
       "    <tr>\n",
       "      <th>2</th>\n",
       "      <td>3</td>\n",
       "      <td>1</td>\n",
       "    </tr>\n",
       "    <tr>\n",
       "      <th>3</th>\n",
       "      <td>1</td>\n",
       "      <td>2</td>\n",
       "    </tr>\n",
       "    <tr>\n",
       "      <th>4</th>\n",
       "      <td>2</td>\n",
       "      <td>1</td>\n",
       "    </tr>\n",
       "    <tr>\n",
       "      <th>...</th>\n",
       "      <td>...</td>\n",
       "      <td>...</td>\n",
       "    </tr>\n",
       "    <tr>\n",
       "      <th>99995</th>\n",
       "      <td>3</td>\n",
       "      <td>5</td>\n",
       "    </tr>\n",
       "    <tr>\n",
       "      <th>99996</th>\n",
       "      <td>5</td>\n",
       "      <td>1</td>\n",
       "    </tr>\n",
       "    <tr>\n",
       "      <th>99997</th>\n",
       "      <td>5</td>\n",
       "      <td>6</td>\n",
       "    </tr>\n",
       "    <tr>\n",
       "      <th>99998</th>\n",
       "      <td>5</td>\n",
       "      <td>5</td>\n",
       "    </tr>\n",
       "    <tr>\n",
       "      <th>99999</th>\n",
       "      <td>6</td>\n",
       "      <td>5</td>\n",
       "    </tr>\n",
       "  </tbody>\n",
       "</table>\n",
       "<p>100000 rows × 2 columns</p>\n",
       "</div>"
      ],
      "text/plain": [
       "       0  1\n",
       "0      6  4\n",
       "1      5  6\n",
       "2      3  1\n",
       "3      1  2\n",
       "4      2  1\n",
       "...   .. ..\n",
       "99995  3  5\n",
       "99996  5  1\n",
       "99997  5  6\n",
       "99998  5  5\n",
       "99999  6  5\n",
       "\n",
       "[100000 rows x 2 columns]"
      ]
     },
     "execution_count": 3,
     "metadata": {},
     "output_type": "execute_result"
    }
   ],
   "source": [
    "n_trials = nrows = 100_000\n",
    "n_dice = ncols = 2 \n",
    "\n",
    "rolls = np.random.choice([1, 2, 3, 4, 5, 6], n_trials * n_dice).reshape(nrows, ncols)\n",
    "pd_rolls = pd.DataFrame(rolls)\n",
    "pd_rolls\n"
   ]
  },
  {
   "cell_type": "code",
   "execution_count": 4,
   "id": "4e209db4",
   "metadata": {},
   "outputs": [
    {
     "data": {
      "text/plain": [
       "0        False\n",
       "1        False\n",
       "2        False\n",
       "3        False\n",
       "4        False\n",
       "         ...  \n",
       "99995    False\n",
       "99996    False\n",
       "99997    False\n",
       "99998     True\n",
       "99999    False\n",
       "Length: 100000, dtype: bool"
      ]
     },
     "execution_count": 4,
     "metadata": {},
     "output_type": "execute_result"
    }
   ],
   "source": [
    "pd_rolls = pd_rolls[0] == pd_rolls[1] \n",
    "pd_rolls"
   ]
  },
  {
   "cell_type": "code",
   "execution_count": 5,
   "id": "ff48ae16",
   "metadata": {},
   "outputs": [
    {
     "data": {
      "text/plain": [
       "0        0\n",
       "1        0\n",
       "2        0\n",
       "3        0\n",
       "4        0\n",
       "        ..\n",
       "99995    0\n",
       "99996    0\n",
       "99997    0\n",
       "99998    1\n",
       "99999    0\n",
       "Length: 100000, dtype: int64"
      ]
     },
     "execution_count": 5,
     "metadata": {},
     "output_type": "execute_result"
    }
   ],
   "source": [
    "# Converting from a Boolean to an integer allows us to count and then get the mean\n",
    "pair_rate = pd_rolls.astype(int)\n",
    "pair_rate"
   ]
  },
  {
   "cell_type": "code",
   "execution_count": 6,
   "id": "057e91d8",
   "metadata": {},
   "outputs": [
    {
     "name": "stdout",
     "output_type": "stream",
     "text": [
      "You will have a chance of %16.64 to roll dobles\n"
     ]
    }
   ],
   "source": [
    "print(f'You will have a chance of %{round((pair_rate.mean() * 100), 2)} to roll dobles')"
   ]
  },
  {
   "cell_type": "markdown",
   "id": "5a25bf15",
   "metadata": {},
   "source": [
    "# 2\n",
    "If you flip 8 coins, what is the probability of getting exactly 3 heads? What is the probability of getting more than 3 heads?"
   ]
  },
  {
   "cell_type": "code",
   "execution_count": 7,
   "id": "3cf44bd1",
   "metadata": {},
   "outputs": [
    {
     "data": {
      "text/html": [
       "<div>\n",
       "<style scoped>\n",
       "    .dataframe tbody tr th:only-of-type {\n",
       "        vertical-align: middle;\n",
       "    }\n",
       "\n",
       "    .dataframe tbody tr th {\n",
       "        vertical-align: top;\n",
       "    }\n",
       "\n",
       "    .dataframe thead th {\n",
       "        text-align: right;\n",
       "    }\n",
       "</style>\n",
       "<table border=\"1\" class=\"dataframe\">\n",
       "  <thead>\n",
       "    <tr style=\"text-align: right;\">\n",
       "      <th></th>\n",
       "      <th>0</th>\n",
       "      <th>1</th>\n",
       "      <th>2</th>\n",
       "      <th>3</th>\n",
       "      <th>4</th>\n",
       "      <th>5</th>\n",
       "      <th>6</th>\n",
       "      <th>7</th>\n",
       "    </tr>\n",
       "  </thead>\n",
       "  <tbody>\n",
       "    <tr>\n",
       "      <th>0</th>\n",
       "      <td>0.291731</td>\n",
       "      <td>0.490073</td>\n",
       "      <td>0.776087</td>\n",
       "      <td>0.510107</td>\n",
       "      <td>0.286953</td>\n",
       "      <td>0.659498</td>\n",
       "      <td>0.818157</td>\n",
       "      <td>0.238839</td>\n",
       "    </tr>\n",
       "    <tr>\n",
       "      <th>1</th>\n",
       "      <td>0.927236</td>\n",
       "      <td>0.477070</td>\n",
       "      <td>0.843578</td>\n",
       "      <td>0.319834</td>\n",
       "      <td>0.846242</td>\n",
       "      <td>0.819876</td>\n",
       "      <td>0.448110</td>\n",
       "      <td>0.127937</td>\n",
       "    </tr>\n",
       "    <tr>\n",
       "      <th>2</th>\n",
       "      <td>0.351815</td>\n",
       "      <td>0.841620</td>\n",
       "      <td>0.421174</td>\n",
       "      <td>0.403915</td>\n",
       "      <td>0.908495</td>\n",
       "      <td>0.983088</td>\n",
       "      <td>0.924901</td>\n",
       "      <td>0.001877</td>\n",
       "    </tr>\n",
       "    <tr>\n",
       "      <th>3</th>\n",
       "      <td>0.662964</td>\n",
       "      <td>0.822577</td>\n",
       "      <td>0.425721</td>\n",
       "      <td>0.122456</td>\n",
       "      <td>0.623451</td>\n",
       "      <td>0.006762</td>\n",
       "      <td>0.467920</td>\n",
       "      <td>0.399034</td>\n",
       "    </tr>\n",
       "    <tr>\n",
       "      <th>4</th>\n",
       "      <td>0.606522</td>\n",
       "      <td>0.428586</td>\n",
       "      <td>0.327234</td>\n",
       "      <td>0.664509</td>\n",
       "      <td>0.247006</td>\n",
       "      <td>0.066287</td>\n",
       "      <td>0.000294</td>\n",
       "      <td>0.407940</td>\n",
       "    </tr>\n",
       "  </tbody>\n",
       "</table>\n",
       "</div>"
      ],
      "text/plain": [
       "          0         1         2         3         4         5         6  \\\n",
       "0  0.291731  0.490073  0.776087  0.510107  0.286953  0.659498  0.818157   \n",
       "1  0.927236  0.477070  0.843578  0.319834  0.846242  0.819876  0.448110   \n",
       "2  0.351815  0.841620  0.421174  0.403915  0.908495  0.983088  0.924901   \n",
       "3  0.662964  0.822577  0.425721  0.122456  0.623451  0.006762  0.467920   \n",
       "4  0.606522  0.428586  0.327234  0.664509  0.247006  0.066287  0.000294   \n",
       "\n",
       "          7  \n",
       "0  0.238839  \n",
       "1  0.127937  \n",
       "2  0.001877  \n",
       "3  0.399034  \n",
       "4  0.407940  "
      ]
     },
     "execution_count": 7,
     "metadata": {},
     "output_type": "execute_result"
    }
   ],
   "source": [
    "n_trials = nrows = 100_000\n",
    "n_dice = ncols = 8\n",
    "p_head = 0.50\n",
    "\n",
    "heads_trial = np.random.random((nrows, ncols))\n",
    "pd_heads_trial = pd.DataFrame(heads_trial)\n",
    "pd_heads_trial.head()\n",
    "\n"
   ]
  },
  {
   "cell_type": "code",
   "execution_count": 8,
   "id": "993fd026",
   "metadata": {},
   "outputs": [
    {
     "data": {
      "text/html": [
       "<div>\n",
       "<style scoped>\n",
       "    .dataframe tbody tr th:only-of-type {\n",
       "        vertical-align: middle;\n",
       "    }\n",
       "\n",
       "    .dataframe tbody tr th {\n",
       "        vertical-align: top;\n",
       "    }\n",
       "\n",
       "    .dataframe thead th {\n",
       "        text-align: right;\n",
       "    }\n",
       "</style>\n",
       "<table border=\"1\" class=\"dataframe\">\n",
       "  <thead>\n",
       "    <tr style=\"text-align: right;\">\n",
       "      <th></th>\n",
       "      <th>0</th>\n",
       "      <th>1</th>\n",
       "      <th>2</th>\n",
       "      <th>3</th>\n",
       "      <th>4</th>\n",
       "      <th>5</th>\n",
       "      <th>6</th>\n",
       "      <th>7</th>\n",
       "    </tr>\n",
       "  </thead>\n",
       "  <tbody>\n",
       "    <tr>\n",
       "      <th>0</th>\n",
       "      <td>True</td>\n",
       "      <td>True</td>\n",
       "      <td>False</td>\n",
       "      <td>False</td>\n",
       "      <td>True</td>\n",
       "      <td>False</td>\n",
       "      <td>False</td>\n",
       "      <td>True</td>\n",
       "    </tr>\n",
       "    <tr>\n",
       "      <th>1</th>\n",
       "      <td>False</td>\n",
       "      <td>True</td>\n",
       "      <td>False</td>\n",
       "      <td>True</td>\n",
       "      <td>False</td>\n",
       "      <td>False</td>\n",
       "      <td>True</td>\n",
       "      <td>True</td>\n",
       "    </tr>\n",
       "    <tr>\n",
       "      <th>2</th>\n",
       "      <td>True</td>\n",
       "      <td>False</td>\n",
       "      <td>True</td>\n",
       "      <td>True</td>\n",
       "      <td>False</td>\n",
       "      <td>False</td>\n",
       "      <td>False</td>\n",
       "      <td>True</td>\n",
       "    </tr>\n",
       "    <tr>\n",
       "      <th>3</th>\n",
       "      <td>False</td>\n",
       "      <td>False</td>\n",
       "      <td>True</td>\n",
       "      <td>True</td>\n",
       "      <td>False</td>\n",
       "      <td>True</td>\n",
       "      <td>True</td>\n",
       "      <td>True</td>\n",
       "    </tr>\n",
       "    <tr>\n",
       "      <th>4</th>\n",
       "      <td>False</td>\n",
       "      <td>True</td>\n",
       "      <td>True</td>\n",
       "      <td>False</td>\n",
       "      <td>True</td>\n",
       "      <td>True</td>\n",
       "      <td>True</td>\n",
       "      <td>True</td>\n",
       "    </tr>\n",
       "  </tbody>\n",
       "</table>\n",
       "</div>"
      ],
      "text/plain": [
       "       0      1      2      3      4      5      6     7\n",
       "0   True   True  False  False   True  False  False  True\n",
       "1  False   True  False   True  False  False   True  True\n",
       "2   True  False   True   True  False  False  False  True\n",
       "3  False  False   True   True  False   True   True  True\n",
       "4  False   True   True  False   True   True   True  True"
      ]
     },
     "execution_count": 8,
     "metadata": {},
     "output_type": "execute_result"
    }
   ],
   "source": [
    "heads = pd_heads_trial < p_head\n",
    "heads.head()"
   ]
  },
  {
   "cell_type": "code",
   "execution_count": 9,
   "id": "2d5acd4d",
   "metadata": {},
   "outputs": [
    {
     "data": {
      "text/plain": [
       "0.8575"
      ]
     },
     "execution_count": 9,
     "metadata": {},
     "output_type": "execute_result"
    }
   ],
   "source": [
    "((heads.sum(axis=1) >= 3).astype(int).sum())/100000"
   ]
  },
  {
   "cell_type": "code",
   "execution_count": 10,
   "id": "f8570c69",
   "metadata": {},
   "outputs": [
    {
     "data": {
      "text/plain": [
       "85.75"
      ]
     },
     "execution_count": 10,
     "metadata": {},
     "output_type": "execute_result"
    }
   ],
   "source": [
    "# More pythonic way as above\n",
    "((heads.sum(axis=1) >= 3).astype(int).mean()) * 100\n"
   ]
  },
  {
   "cell_type": "markdown",
   "id": "215073fd",
   "metadata": {},
   "source": [
    "# 3\n",
    "There are approximitely 3 web development cohorts for every 1 data science cohort at Codeup. Assuming that Codeup randomly selects an alumni to put on a billboard, what are the odds that the two billboards I drive past both have data science students on them?"
   ]
  },
  {
   "cell_type": "code",
   "execution_count": 11,
   "id": "c62b90eb",
   "metadata": {},
   "outputs": [
    {
     "data": {
      "text/html": [
       "<div>\n",
       "<style scoped>\n",
       "    .dataframe tbody tr th:only-of-type {\n",
       "        vertical-align: middle;\n",
       "    }\n",
       "\n",
       "    .dataframe tbody tr th {\n",
       "        vertical-align: top;\n",
       "    }\n",
       "\n",
       "    .dataframe thead th {\n",
       "        text-align: right;\n",
       "    }\n",
       "</style>\n",
       "<table border=\"1\" class=\"dataframe\">\n",
       "  <thead>\n",
       "    <tr style=\"text-align: right;\">\n",
       "      <th></th>\n",
       "      <th>0</th>\n",
       "      <th>1</th>\n",
       "    </tr>\n",
       "  </thead>\n",
       "  <tbody>\n",
       "    <tr>\n",
       "      <th>0</th>\n",
       "      <td>0.161797</td>\n",
       "      <td>0.259063</td>\n",
       "    </tr>\n",
       "    <tr>\n",
       "      <th>1</th>\n",
       "      <td>0.857899</td>\n",
       "      <td>0.923003</td>\n",
       "    </tr>\n",
       "    <tr>\n",
       "      <th>2</th>\n",
       "      <td>0.808766</td>\n",
       "      <td>0.864192</td>\n",
       "    </tr>\n",
       "    <tr>\n",
       "      <th>3</th>\n",
       "      <td>0.767680</td>\n",
       "      <td>0.851182</td>\n",
       "    </tr>\n",
       "    <tr>\n",
       "      <th>4</th>\n",
       "      <td>0.091315</td>\n",
       "      <td>0.678692</td>\n",
       "    </tr>\n",
       "  </tbody>\n",
       "</table>\n",
       "</div>"
      ],
      "text/plain": [
       "          0         1\n",
       "0  0.161797  0.259063\n",
       "1  0.857899  0.923003\n",
       "2  0.808766  0.864192\n",
       "3  0.767680  0.851182\n",
       "4  0.091315  0.678692"
      ]
     },
     "execution_count": 11,
     "metadata": {},
     "output_type": "execute_result"
    }
   ],
   "source": [
    "n_trials = nrows = 100_000\n",
    "n_students = ncols = 2\n",
    "p_ds_student = 0.25\n",
    "\n",
    "billboards_trial = np.random.random((nrows, ncols))\n",
    "pd_billboards_trial = pd.DataFrame(billboards_trial)\n",
    "pd_billboards_trial.head()"
   ]
  },
  {
   "cell_type": "code",
   "execution_count": 12,
   "id": "177f6cc8",
   "metadata": {},
   "outputs": [
    {
     "data": {
      "text/html": [
       "<div>\n",
       "<style scoped>\n",
       "    .dataframe tbody tr th:only-of-type {\n",
       "        vertical-align: middle;\n",
       "    }\n",
       "\n",
       "    .dataframe tbody tr th {\n",
       "        vertical-align: top;\n",
       "    }\n",
       "\n",
       "    .dataframe thead th {\n",
       "        text-align: right;\n",
       "    }\n",
       "</style>\n",
       "<table border=\"1\" class=\"dataframe\">\n",
       "  <thead>\n",
       "    <tr style=\"text-align: right;\">\n",
       "      <th></th>\n",
       "      <th>0</th>\n",
       "      <th>1</th>\n",
       "    </tr>\n",
       "  </thead>\n",
       "  <tbody>\n",
       "    <tr>\n",
       "      <th>0</th>\n",
       "      <td>True</td>\n",
       "      <td>False</td>\n",
       "    </tr>\n",
       "    <tr>\n",
       "      <th>1</th>\n",
       "      <td>False</td>\n",
       "      <td>False</td>\n",
       "    </tr>\n",
       "    <tr>\n",
       "      <th>2</th>\n",
       "      <td>False</td>\n",
       "      <td>False</td>\n",
       "    </tr>\n",
       "    <tr>\n",
       "      <th>3</th>\n",
       "      <td>False</td>\n",
       "      <td>False</td>\n",
       "    </tr>\n",
       "    <tr>\n",
       "      <th>4</th>\n",
       "      <td>True</td>\n",
       "      <td>False</td>\n",
       "    </tr>\n",
       "    <tr>\n",
       "      <th>5</th>\n",
       "      <td>True</td>\n",
       "      <td>True</td>\n",
       "    </tr>\n",
       "    <tr>\n",
       "      <th>6</th>\n",
       "      <td>False</td>\n",
       "      <td>False</td>\n",
       "    </tr>\n",
       "    <tr>\n",
       "      <th>7</th>\n",
       "      <td>False</td>\n",
       "      <td>False</td>\n",
       "    </tr>\n",
       "    <tr>\n",
       "      <th>8</th>\n",
       "      <td>True</td>\n",
       "      <td>False</td>\n",
       "    </tr>\n",
       "    <tr>\n",
       "      <th>9</th>\n",
       "      <td>True</td>\n",
       "      <td>False</td>\n",
       "    </tr>\n",
       "  </tbody>\n",
       "</table>\n",
       "</div>"
      ],
      "text/plain": [
       "       0      1\n",
       "0   True  False\n",
       "1  False  False\n",
       "2  False  False\n",
       "3  False  False\n",
       "4   True  False\n",
       "5   True   True\n",
       "6  False  False\n",
       "7  False  False\n",
       "8   True  False\n",
       "9   True  False"
      ]
     },
     "execution_count": 12,
     "metadata": {},
     "output_type": "execute_result"
    }
   ],
   "source": [
    "doble_ds_student = pd_billboards_trial < p_ds_student\n",
    "doble_ds_student.head(10)"
   ]
  },
  {
   "cell_type": "code",
   "execution_count": 13,
   "id": "55ffa8ba",
   "metadata": {},
   "outputs": [
    {
     "data": {
      "text/plain": [
       "0        False\n",
       "1        False\n",
       "2        False\n",
       "3        False\n",
       "4        False\n",
       "         ...  \n",
       "99995    False\n",
       "99996    False\n",
       "99997    False\n",
       "99998    False\n",
       "99999    False\n",
       "Length: 100000, dtype: bool"
      ]
     },
     "execution_count": 13,
     "metadata": {},
     "output_type": "execute_result"
    }
   ],
   "source": [
    "#The .sum() uses boolean as 1 and 0 so if we have a True and True we get 2\n",
    "(doble_ds_student.sum(axis=1) == 2)"
   ]
  },
  {
   "cell_type": "code",
   "execution_count": 14,
   "id": "296fc63c",
   "metadata": {},
   "outputs": [
    {
     "name": "stdout",
     "output_type": "stream",
     "text": [
      "The odds that the two billboards I drive past both have data science students on them is 6.2%\n"
     ]
    }
   ],
   "source": [
    "# now that we have an array of booleans, we can calculate the mean of the array\n",
    "print(f\"The odds that the two billboards I drive past both have data science students on them is {(doble_ds_student.sum(axis=1) == 2).mean() * 100}%\")"
   ]
  },
  {
   "cell_type": "markdown",
   "id": "49c86e6b",
   "metadata": {},
   "source": [
    "# 4 \n",
    "Codeup students buy, on average, 3 poptart packages with a standard deviation of 1.5 a day from the snack vending machine. If on monday the machine is restocked with 17 poptart packages, how likely is it that I will be able to buy some poptarts on Friday afternoon? (Remember, if you have mean and standard deviation, use the np.random.normal)"
   ]
  },
  {
   "cell_type": "code",
   "execution_count": 15,
   "id": "133c4341",
   "metadata": {},
   "outputs": [
    {
     "data": {
      "text/html": [
       "<div>\n",
       "<style scoped>\n",
       "    .dataframe tbody tr th:only-of-type {\n",
       "        vertical-align: middle;\n",
       "    }\n",
       "\n",
       "    .dataframe tbody tr th {\n",
       "        vertical-align: top;\n",
       "    }\n",
       "\n",
       "    .dataframe thead th {\n",
       "        text-align: right;\n",
       "    }\n",
       "</style>\n",
       "<table border=\"1\" class=\"dataframe\">\n",
       "  <thead>\n",
       "    <tr style=\"text-align: right;\">\n",
       "      <th></th>\n",
       "      <th>0</th>\n",
       "      <th>1</th>\n",
       "      <th>2</th>\n",
       "      <th>3</th>\n",
       "      <th>4</th>\n",
       "    </tr>\n",
       "  </thead>\n",
       "  <tbody>\n",
       "    <tr>\n",
       "      <th>0</th>\n",
       "      <td>2</td>\n",
       "      <td>5</td>\n",
       "      <td>2</td>\n",
       "      <td>3</td>\n",
       "      <td>2</td>\n",
       "    </tr>\n",
       "    <tr>\n",
       "      <th>1</th>\n",
       "      <td>1</td>\n",
       "      <td>1</td>\n",
       "      <td>2</td>\n",
       "      <td>3</td>\n",
       "      <td>3</td>\n",
       "    </tr>\n",
       "    <tr>\n",
       "      <th>2</th>\n",
       "      <td>3</td>\n",
       "      <td>3</td>\n",
       "      <td>6</td>\n",
       "      <td>6</td>\n",
       "      <td>1</td>\n",
       "    </tr>\n",
       "  </tbody>\n",
       "</table>\n",
       "</div>"
      ],
      "text/plain": [
       "   0  1  2  3  4\n",
       "0  2  5  2  3  2\n",
       "1  1  1  2  3  3\n",
       "2  3  3  6  6  1"
      ]
     },
     "execution_count": 15,
     "metadata": {},
     "output_type": "execute_result"
    }
   ],
   "source": [
    "# Create posible outcomes of poptarts consumed per day\n",
    "n_trials = nrows = 100_000\n",
    "n_days = ncols = 5\n",
    "\n",
    "pop_tart_trial = np.random.normal(3, 1.5, n_trials * n_days)\n",
    "pop_tart_trial = pop_tart_trial.astype(int)\n",
    "pop_tart_trial = pd.DataFrame(pop_tart_trial.reshape(n_trials, n_days))\n",
    "pop_tart_trial.head(3)\n",
    "\n"
   ]
  },
  {
   "cell_type": "code",
   "execution_count": 16,
   "id": "547f6a36",
   "metadata": {},
   "outputs": [
    {
     "data": {
      "text/plain": [
       "'The possibility that there are pop tarts after Friday afternoon is 88%'"
      ]
     },
     "execution_count": 16,
     "metadata": {},
     "output_type": "execute_result"
    }
   ],
   "source": [
    "poptar_chance = round((((pop_tart_trial.sum(axis=1) < 17).astype(int)).mean())*100)\n",
    "f\"The possibility that there are pop tarts after Friday afternoon is {poptar_chance}%\""
   ]
  },
  {
   "cell_type": "markdown",
   "id": "89ad68d1",
   "metadata": {},
   "source": [
    "# 5\n",
    "- Men have an average height of 178 cm and standard deviation of 8cm.\n",
    "- Women have a mean of 170, sd = 6cm.\n",
    "- Since you have means and standard deviations, you can use `np.random.normal` to generate observations.\n",
    "- If a man and woman are chosen at random, P(woman taller than man)?"
   ]
  },
  {
   "cell_type": "code",
   "execution_count": 17,
   "id": "a2f1a577",
   "metadata": {},
   "outputs": [
    {
     "data": {
      "text/plain": [
       "array([177.24357334, 165.53530953, 189.652218  , ..., 191.87674213,\n",
       "       171.92408783, 176.33051025])"
      ]
     },
     "execution_count": 17,
     "metadata": {},
     "output_type": "execute_result"
    }
   ],
   "source": [
    "# create a sample of 100,000 Males\n",
    "n_trials = nrows = 100_000\n",
    "male_height = ncols = 1\n",
    "\n",
    "male_trial = np.random.normal(178, 8, n_trials * male_height)\n",
    "male_trial = male_trial\n",
    "male_trial"
   ]
  },
  {
   "cell_type": "code",
   "execution_count": 18,
   "id": "3581294b",
   "metadata": {},
   "outputs": [
    {
     "data": {
      "text/plain": [
       "array([166.78893095, 167.38864595, 173.75822651, ..., 176.13774481,\n",
       "       170.96885009, 175.83410598])"
      ]
     },
     "execution_count": 18,
     "metadata": {},
     "output_type": "execute_result"
    }
   ],
   "source": [
    "#Create a sample of 100,000 Females\n",
    "n_trials = nrows = 100_000\n",
    "female_height = ncols = 1\n",
    "\n",
    "female_trial = np.random.normal(170, 6, n_trials * female_height)\n",
    "female_trial = female_trial\n",
    "female_trial"
   ]
  },
  {
   "cell_type": "code",
   "execution_count": 19,
   "id": "57576440",
   "metadata": {},
   "outputs": [
    {
     "data": {
      "text/html": [
       "<div>\n",
       "<style scoped>\n",
       "    .dataframe tbody tr th:only-of-type {\n",
       "        vertical-align: middle;\n",
       "    }\n",
       "\n",
       "    .dataframe tbody tr th {\n",
       "        vertical-align: top;\n",
       "    }\n",
       "\n",
       "    .dataframe thead th {\n",
       "        text-align: right;\n",
       "    }\n",
       "</style>\n",
       "<table border=\"1\" class=\"dataframe\">\n",
       "  <thead>\n",
       "    <tr style=\"text-align: right;\">\n",
       "      <th></th>\n",
       "      <th>male_hights</th>\n",
       "      <th>female_hights</th>\n",
       "    </tr>\n",
       "  </thead>\n",
       "  <tbody>\n",
       "    <tr>\n",
       "      <th>15566</th>\n",
       "      <td>175.06718</td>\n",
       "      <td>176.382655</td>\n",
       "    </tr>\n",
       "  </tbody>\n",
       "</table>\n",
       "</div>"
      ],
      "text/plain": [
       "       male_hights  female_hights\n",
       "15566    175.06718     176.382655"
      ]
     },
     "execution_count": 19,
     "metadata": {},
     "output_type": "execute_result"
    }
   ],
   "source": [
    "df_males_and_females = pd.DataFrame({\"male_hights\" : male_trial, \"female_hights\" : female_trial})\n",
    "df_males_and_females.sample()"
   ]
  },
  {
   "cell_type": "code",
   "execution_count": 20,
   "id": "0ab32e61",
   "metadata": {},
   "outputs": [
    {
     "data": {
      "text/plain": [
       "'The provavility that a woman chosen at random is taller than a man is 21.2%'"
      ]
     },
     "execution_count": 20,
     "metadata": {},
     "output_type": "execute_result"
    }
   ],
   "source": [
    "#- If a man and woman are chosen at random, P(woman taller than man)?\n",
    "P_w_taller_than_m = (df_males_and_females['male_hights'] < df_males_and_females['female_hights']).mean()\n",
    "f\"The probability that a woman chosen at random is taller \\\n",
    "than a man is {round(P_w_taller_than_m*100, 1)}%\"\n"
   ]
  },
  {
   "cell_type": "markdown",
   "id": "a9bfbe29",
   "metadata": {},
   "source": [
    "# 6 \n",
    "When installing anaconda on a student's computer, there's a 1 in 250 chance that the download is corrupted and the installation fails. What are the odds that after having 50 students download anaconda, no one has an installation issue? 100 students?"
   ]
  },
  {
   "cell_type": "code",
   "execution_count": 21,
   "id": "86ea9415",
   "metadata": {},
   "outputs": [
    {
     "data": {
      "text/plain": [
       "(100000, 50)"
      ]
     },
     "execution_count": 21,
     "metadata": {},
     "output_type": "execute_result"
    }
   ],
   "source": [
    "n_trials = nrows = 100_000\n",
    "n_students = ncols = 50\n",
    "p_error = 1/250\n",
    "\n",
    "install_trial = np.random.random((nrows, ncols))\n",
    "install_trial.shape"
   ]
  },
  {
   "cell_type": "code",
   "execution_count": 22,
   "id": "09fd53ed",
   "metadata": {},
   "outputs": [
    {
     "data": {
      "text/html": [
       "<div>\n",
       "<style scoped>\n",
       "    .dataframe tbody tr th:only-of-type {\n",
       "        vertical-align: middle;\n",
       "    }\n",
       "\n",
       "    .dataframe tbody tr th {\n",
       "        vertical-align: top;\n",
       "    }\n",
       "\n",
       "    .dataframe thead th {\n",
       "        text-align: right;\n",
       "    }\n",
       "</style>\n",
       "<table border=\"1\" class=\"dataframe\">\n",
       "  <thead>\n",
       "    <tr style=\"text-align: right;\">\n",
       "      <th></th>\n",
       "      <th>0</th>\n",
       "      <th>1</th>\n",
       "      <th>2</th>\n",
       "      <th>3</th>\n",
       "      <th>4</th>\n",
       "      <th>5</th>\n",
       "      <th>6</th>\n",
       "      <th>7</th>\n",
       "      <th>8</th>\n",
       "      <th>9</th>\n",
       "      <th>...</th>\n",
       "      <th>40</th>\n",
       "      <th>41</th>\n",
       "      <th>42</th>\n",
       "      <th>43</th>\n",
       "      <th>44</th>\n",
       "      <th>45</th>\n",
       "      <th>46</th>\n",
       "      <th>47</th>\n",
       "      <th>48</th>\n",
       "      <th>49</th>\n",
       "    </tr>\n",
       "  </thead>\n",
       "  <tbody>\n",
       "    <tr>\n",
       "      <th>0</th>\n",
       "      <td>False</td>\n",
       "      <td>False</td>\n",
       "      <td>False</td>\n",
       "      <td>False</td>\n",
       "      <td>False</td>\n",
       "      <td>False</td>\n",
       "      <td>False</td>\n",
       "      <td>False</td>\n",
       "      <td>False</td>\n",
       "      <td>False</td>\n",
       "      <td>...</td>\n",
       "      <td>False</td>\n",
       "      <td>False</td>\n",
       "      <td>False</td>\n",
       "      <td>False</td>\n",
       "      <td>False</td>\n",
       "      <td>False</td>\n",
       "      <td>False</td>\n",
       "      <td>False</td>\n",
       "      <td>False</td>\n",
       "      <td>False</td>\n",
       "    </tr>\n",
       "    <tr>\n",
       "      <th>1</th>\n",
       "      <td>False</td>\n",
       "      <td>False</td>\n",
       "      <td>False</td>\n",
       "      <td>False</td>\n",
       "      <td>False</td>\n",
       "      <td>False</td>\n",
       "      <td>False</td>\n",
       "      <td>False</td>\n",
       "      <td>False</td>\n",
       "      <td>False</td>\n",
       "      <td>...</td>\n",
       "      <td>False</td>\n",
       "      <td>False</td>\n",
       "      <td>False</td>\n",
       "      <td>False</td>\n",
       "      <td>False</td>\n",
       "      <td>False</td>\n",
       "      <td>False</td>\n",
       "      <td>False</td>\n",
       "      <td>False</td>\n",
       "      <td>False</td>\n",
       "    </tr>\n",
       "    <tr>\n",
       "      <th>2</th>\n",
       "      <td>False</td>\n",
       "      <td>False</td>\n",
       "      <td>False</td>\n",
       "      <td>False</td>\n",
       "      <td>False</td>\n",
       "      <td>False</td>\n",
       "      <td>False</td>\n",
       "      <td>False</td>\n",
       "      <td>False</td>\n",
       "      <td>False</td>\n",
       "      <td>...</td>\n",
       "      <td>False</td>\n",
       "      <td>False</td>\n",
       "      <td>False</td>\n",
       "      <td>False</td>\n",
       "      <td>False</td>\n",
       "      <td>False</td>\n",
       "      <td>False</td>\n",
       "      <td>False</td>\n",
       "      <td>False</td>\n",
       "      <td>False</td>\n",
       "    </tr>\n",
       "    <tr>\n",
       "      <th>3</th>\n",
       "      <td>False</td>\n",
       "      <td>False</td>\n",
       "      <td>False</td>\n",
       "      <td>False</td>\n",
       "      <td>False</td>\n",
       "      <td>False</td>\n",
       "      <td>False</td>\n",
       "      <td>False</td>\n",
       "      <td>False</td>\n",
       "      <td>False</td>\n",
       "      <td>...</td>\n",
       "      <td>False</td>\n",
       "      <td>False</td>\n",
       "      <td>False</td>\n",
       "      <td>False</td>\n",
       "      <td>False</td>\n",
       "      <td>False</td>\n",
       "      <td>False</td>\n",
       "      <td>False</td>\n",
       "      <td>False</td>\n",
       "      <td>False</td>\n",
       "    </tr>\n",
       "    <tr>\n",
       "      <th>4</th>\n",
       "      <td>False</td>\n",
       "      <td>False</td>\n",
       "      <td>False</td>\n",
       "      <td>False</td>\n",
       "      <td>False</td>\n",
       "      <td>False</td>\n",
       "      <td>False</td>\n",
       "      <td>False</td>\n",
       "      <td>False</td>\n",
       "      <td>False</td>\n",
       "      <td>...</td>\n",
       "      <td>False</td>\n",
       "      <td>False</td>\n",
       "      <td>False</td>\n",
       "      <td>False</td>\n",
       "      <td>False</td>\n",
       "      <td>False</td>\n",
       "      <td>False</td>\n",
       "      <td>False</td>\n",
       "      <td>False</td>\n",
       "      <td>False</td>\n",
       "    </tr>\n",
       "  </tbody>\n",
       "</table>\n",
       "<p>5 rows × 50 columns</p>\n",
       "</div>"
      ],
      "text/plain": [
       "      0      1      2      3      4      5      6      7      8      9   ...  \\\n",
       "0  False  False  False  False  False  False  False  False  False  False  ...   \n",
       "1  False  False  False  False  False  False  False  False  False  False  ...   \n",
       "2  False  False  False  False  False  False  False  False  False  False  ...   \n",
       "3  False  False  False  False  False  False  False  False  False  False  ...   \n",
       "4  False  False  False  False  False  False  False  False  False  False  ...   \n",
       "\n",
       "      40     41     42     43     44     45     46     47     48     49  \n",
       "0  False  False  False  False  False  False  False  False  False  False  \n",
       "1  False  False  False  False  False  False  False  False  False  False  \n",
       "2  False  False  False  False  False  False  False  False  False  False  \n",
       "3  False  False  False  False  False  False  False  False  False  False  \n",
       "4  False  False  False  False  False  False  False  False  False  False  \n",
       "\n",
       "[5 rows x 50 columns]"
      ]
     },
     "execution_count": 22,
     "metadata": {},
     "output_type": "execute_result"
    }
   ],
   "source": [
    " p_students50_1issue = (install_trial <= p_error)\n",
    " p_students50_1issue = pd.DataFrame(p_students50_1issue)\n",
    " p_students50_1issue.head()"
   ]
  },
  {
   "cell_type": "code",
   "execution_count": 23,
   "id": "fc1bb152",
   "metadata": {},
   "outputs": [
    {
     "data": {
      "text/plain": [
       "'The odds of 50 students downloading Conda without issues is 82%'"
      ]
     },
     "execution_count": 23,
     "metadata": {},
     "output_type": "execute_result"
    }
   ],
   "source": [
    "f\"The odds of 50 students downloading Conda without issues is {round((p_students50_1issue.sum(axis=1) == 0).mean()*100)}%\"\n"
   ]
  },
  {
   "cell_type": "code",
   "execution_count": 24,
   "id": "118ce6f2",
   "metadata": {},
   "outputs": [],
   "source": [
    "def anaconda_success_p_given_nstudents(x, p):\n",
    "    n_trials = nrows = 100_000\n",
    "    n_students = ncols = x\n",
    "    p_error = p\n",
    "\n",
    "    install_trial = np.random.random((nrows, ncols))\n",
    "    p_students_1issue = (install_trial <= p_error)\n",
    "    p_students_1issue = pd.DataFrame(p_students_1issue)\n",
    "    print(f\"The odds of {x} students downloading Conda without issues is {round((p_students_1issue.sum(axis=1) == 0).mean()*100)}%\")\n",
    "    print(f\"The odds of {x} students downloading Conda with at least one issue is {round((p_students_1issue.sum(axis=1) > 0).mean()*100)}%\")"
   ]
  },
  {
   "cell_type": "code",
   "execution_count": 25,
   "id": "56649f93",
   "metadata": {},
   "outputs": [
    {
     "name": "stdout",
     "output_type": "stream",
     "text": [
      "The odds of 50 students downloading Conda without issues is 82%\n",
      "The odds of 50 students downloading Conda wit atleast one issue is 18%\n",
      "None\n"
     ]
    }
   ],
   "source": [
    "# 50 Students to instal anaconda\n",
    "print(anaconda_success_p_given_nstudents(50, 1/250))"
   ]
  },
  {
   "cell_type": "code",
   "execution_count": 26,
   "id": "380bdad5",
   "metadata": {},
   "outputs": [
    {
     "name": "stdout",
     "output_type": "stream",
     "text": [
      "The odds of 100 students downloading Conda without issues is 67%\n",
      "The odds of 100 students downloading Conda wit atleast one issue is 33%\n",
      "None\n"
     ]
    }
   ],
   "source": [
    "# 100 Studes to instal anaconda \n",
    "print(anaconda_success_p_given_nstudents(100, 1/250))"
   ]
  },
  {
   "cell_type": "markdown",
   "id": "01360f9b",
   "metadata": {},
   "source": [
    "What is the probability that we observe an installation issue within the first 150 students that download anaconda?"
   ]
  },
  {
   "cell_type": "code",
   "execution_count": 27,
   "id": "039f093e",
   "metadata": {},
   "outputs": [
    {
     "name": "stdout",
     "output_type": "stream",
     "text": [
      "The odds of 150 students downloading Conda without issues is 55%\n",
      "The odds of 150 students downloading Conda wit atleast one issue is 45%\n",
      "None\n"
     ]
    }
   ],
   "source": [
    "print(anaconda_success_p_given_nstudents(150, 1/250))"
   ]
  },
  {
   "cell_type": "markdown",
   "id": "f7cd7f60",
   "metadata": {},
   "source": [
    "# 7\n",
    "\n",
    "There's a 70% chance on any given day that there will be at least one food truck at Travis Park. However, you haven't seen a food truck there in 3 days. How unlikely is this?\n",
    "\n",
    "How likely is it that a food truck will show up sometime this week?\n",
    "\n"
   ]
  },
  {
   "cell_type": "code",
   "execution_count": 28,
   "id": "2b787a5f",
   "metadata": {},
   "outputs": [
    {
     "name": "stdout",
     "output_type": "stream",
     "text": [
      "The odds of NOT seeing a food truck in Travis Park for 1 days is 30%\n",
      "The odds of seeing a food truck in Travis Park for 1 days is  70%\n",
      "None\n"
     ]
    }
   ],
   "source": [
    "def food_tuck_at_park (x, p):\n",
    "    n_trials = nrows = 100_000\n",
    "    n_days = ncols = x\n",
    "    p_error = p\n",
    "\n",
    "    food_truck_showup = np.random.random((nrows, ncols))\n",
    "    food_truck_showup = (food_truck_showup <= p_error)\n",
    "    food_truck_showup = pd.DataFrame(food_truck_showup)\n",
    "    print(f\"The odds of NOT seeing a food truck in Travis Park for {x} days is {round((food_truck_showup.sum(axis=1) == 0).mean()*100)}%\")\n",
    "    print(f\"The odds of seeing a food truck in Travis Park for {x} days is  {round((food_truck_showup.sum(axis=1) > 0).mean()*100)}%\")\n",
    "\n",
    "print(food_tuck_at_park(1, .7))"
   ]
  },
  {
   "cell_type": "code",
   "execution_count": 29,
   "id": "305ef545",
   "metadata": {},
   "outputs": [
    {
     "name": "stdout",
     "output_type": "stream",
     "text": [
      "The odds of NOT seeing a food truck in Travis Park for 1 days is 30%\n",
      "The odds of seeing a food truck in Travis Park for 1 days is  70%\n",
      "\n",
      "The odds of NOT seeing a food truck in Travis Park for 2 days is 9%\n",
      "The odds of seeing a food truck in Travis Park for 2 days is  91%\n",
      "\n",
      "The odds of NOT seeing a food truck in Travis Park for 3 days is 3%\n",
      "The odds of seeing a food truck in Travis Park for 3 days is  97%\n",
      "\n",
      "The odds of NOT seeing a food truck in Travis Park for 4 days is 1%\n",
      "The odds of seeing a food truck in Travis Park for 4 days is  99%\n",
      "\n",
      "The odds of NOT seeing a food truck in Travis Park for 5 days is 0%\n",
      "The odds of seeing a food truck in Travis Park for 5 days is  100%\n",
      "\n",
      "The odds of NOT seeing a food truck in Travis Park for 6 days is 0%\n",
      "The odds of seeing a food truck in Travis Park for 6 days is  100%\n",
      "\n",
      "The odds of NOT seeing a food truck in Travis Park for 7 days is 0%\n",
      "The odds of seeing a food truck in Travis Park for 7 days is  100%\n",
      "\n"
     ]
    }
   ],
   "source": [
    "for _ in range(1,8):\n",
    "    food_tuck_at_park(_, .7)\n",
    "    print()"
   ]
  },
  {
   "cell_type": "markdown",
   "id": "cc3393c5",
   "metadata": {},
   "source": [
    "# 8\n",
    "\n",
    "If 23 people are in the same room, what are the odds that two of them share a birthday? What if it's 20 people? 40?"
   ]
  },
  {
   "cell_type": "code",
   "execution_count": 30,
   "id": "0e0d457b",
   "metadata": {
    "scrolled": true
   },
   "outputs": [
    {
     "name": "stdout",
     "output_type": "stream",
     "text": [
      "The odds of NOT seeing a food truck in Travis Park for 23 days is 100%\n",
      "The odds of seeing a food truck in Travis Park for 23 days is  0%\n",
      "None\n"
     ]
    }
   ],
   "source": [
    "def same_bday (x):\n",
    "    n_trials = nrows = 100_000\n",
    "    n_people_in_room = ncols = x\n",
    "    p_of_bday = 1/365\n",
    "\n",
    "    people_in_room_trials = np.random.random((nrows, ncols))\n",
    "    people_in_room_trials = (people_in_room_trials == p_of_bday)\n",
    "    people_in_room_trials = pd.DataFrame(people_in_room_trials)\n",
    "    print(f\"The odds of NOT seeing a food truck in Travis Park for {x} days is {round((people_in_room_trials.sum(axis=1) == 0).mean()*100)}%\")\n",
    "    print(f\"The odds of seeing a food truck in Travis Park for {x} days is  {round((people_in_room_trials.sum(axis=1) > 0).mean()*100)}%\")\n",
    "\n",
    "print(same_bday(23))"
   ]
  },
  {
   "cell_type": "code",
   "execution_count": 31,
   "id": "c797c5da",
   "metadata": {},
   "outputs": [
    {
     "name": "stdout",
     "output_type": "stream",
     "text": [
      "The odds of two people having the same birthday in a room of 23 people is 50.681%\n",
      "The odds of two people having the same birthday in a room of 20 people is 40.946%\n",
      "The odds of two people having the same birthday in a room of 40 people is 89.05%\n"
     ]
    }
   ],
   "source": [
    "\n",
    "def same_bday_in_the_room(x):\n",
    "    n_trials = nrows = 100_000\n",
    "    n_people_in_room = ncols = x\n",
    "\n",
    "    people_in_room_bdays = np.random.randint(1, 366, size =(nrows,ncols))\n",
    "    people_in_room_bdays = pd.DataFrame(people_in_room_bdays)\n",
    "    people_in_room_bdays['same_bday'] = people_in_room_bdays.nunique(axis=1) < n_people_in_room\n",
    "    \n",
    "\n",
    "    return f\"The odds of two people having the same birthday in a room of {x} people is {(people_in_room_bdays['same_bday'].mean() * 100)}%\"\n",
    "\n",
    "print(same_bday_in_the_room(23))\n",
    "print(same_bday_in_the_room(20))\n",
    "print(same_bday_in_the_room(40))"
   ]
  },
  {
   "cell_type": "code",
   "execution_count": 33,
   "id": "2c6080c6",
   "metadata": {},
   "outputs": [
    {
     "data": {
      "text/plain": [
       "(100000, 50)"
      ]
     },
     "execution_count": 33,
     "metadata": {},
     "output_type": "execute_result"
    }
   ],
   "source": [
    "# not an aswer\n",
    "# work in progress before plugin into function\n",
    "np.random.randint(1, 366, size =(nrows,ncols)).shape\n"
   ]
  }
 ],
 "metadata": {
  "interpreter": {
   "hash": "38cca0c38332a56087b24af0bc80247f4fced29cb4f7f437d91dc159adec9c4e"
  },
  "kernelspec": {
   "display_name": "Python 3",
   "language": "python",
   "name": "python3"
  },
  "language_info": {
   "codemirror_mode": {
    "name": "ipython",
    "version": 3
   },
   "file_extension": ".py",
   "mimetype": "text/x-python",
   "name": "python",
   "nbconvert_exporter": "python",
   "pygments_lexer": "ipython3",
   "version": "3.8.8"
  }
 },
 "nbformat": 4,
 "nbformat_minor": 5
}
