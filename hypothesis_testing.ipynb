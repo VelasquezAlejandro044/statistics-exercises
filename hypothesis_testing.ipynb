{
 "cells": [
  {
   "cell_type": "markdown",
   "id": "0d4a5d41",
   "metadata": {},
   "source": [
    "# For each\n",
    "- formulate a null and alternative hypothesis (be as specific as you can be)\n",
    "-  give an example of what a true positive, true negative, type I and type II errors would look like\n",
    "\n",
    "*NOTE:* Note that some of the questions are intentionally phrased in a vague way. It is your job to reword these as more precise questions that could be tested."
   ]
  },
  {
   "cell_type": "markdown",
   "id": "3474ad45",
   "metadata": {},
   "source": [
    "# 1\n",
    "Has the network latency gone up since we switched internet service providers?"
   ]
  },
  {
   "cell_type": "markdown",
   "id": "56d01d69",
   "metadata": {},
   "source": [
    "- Null Hypothesis: Internet latency has gone up since we switched internet services.\n",
    "- Alternative Hypothesis: the internet is the same or worst as before.\n",
    "- Ture Positive: Latency should have gone up with the new provider. The new provider increased latency. \n",
    "- True Negative:  Latency should have gone up with the new provider. Latency has stated the same.\n",
    "- Type 1 error: Latency went up with the new provider. We don't think it is the new provider.\n",
    "- Type 2 error: Latancy has stated the same after the new switch. The new provider has increased latency. "
   ]
  },
  {
   "cell_type": "markdown",
   "id": "e096ec2c",
   "metadata": {},
   "source": [
    "# 2\n",
    "Is the website redesign any good?"
   ]
  },
  {
   "cell_type": "markdown",
   "id": "ebae39cc",
   "metadata": {},
   "source": [
    "- Null Hypothesis: Customers stay longer on the website\n",
    "- Alternative Hypothesis: people spend the same amount of time on the website as before\n",
    "- Ture Positive: New page should increase time on our website. It did.  \n",
    "- True Negative: New page should increase time on our website. It did not.\n",
    "- Type 1 error: The page does not make customers stay longer on the website. It did\n",
    "- Type 2 error: Customers remain longer on the website. The new website had nothing to do with it. "
   ]
  },
  {
   "cell_type": "markdown",
   "id": "e3e9ee51",
   "metadata": {},
   "source": [
    "# 3\n",
    "\n",
    "Is our television ad driving more sales?"
   ]
  },
  {
   "cell_type": "markdown",
   "id": "8a5b71fa",
   "metadata": {},
   "source": [
    "- Null Hypothesis: The item sold has seen a three percent increase in sales after Super Bowl add\n",
    "- Alternative Hypothesis:  After the Super Bowl add, the product saw an increase of 1% or less\n",
    "- Ture Positive:  Sales have increased 4%. We believe it is because of the Super Bowl ad.\n",
    "- True Negative: Item sold has seen an increase of sales 5%. Add has not had its day view on tv \n",
    "- Type 1 error: Sales have gone up over 3% since the commercial. We think that sales don't have anything to do with commercials.\n",
    "- Type 2 error: The item sold did not see a three percent increase, but we think that the commercial is driving sales of the product"
   ]
  },
  {
   "cell_type": "markdown",
   "id": "cdc3de1b",
   "metadata": {},
   "source": [
    "-----------------------------\n",
    "<br><br><br>\n"
   ]
  },
  {
   "cell_type": "markdown",
   "id": "49205bff",
   "metadata": {},
   "source": [
    "# T-Test \n",
    "<br><br>"
   ]
  },
  {
   "cell_type": "code",
   "execution_count": 1,
   "id": "caa928bb",
   "metadata": {},
   "outputs": [],
   "source": [
    "# Get imports\n",
    "from math import sqrt\n",
    "from scipy import stats\n",
    "\n",
    "import seaborn as sns\n",
    "import matplotlib.pyplot as plt\n",
    "import numpy as np\n",
    "import pandas as pd\n",
    "from pydataset import data"
   ]
  },
  {
   "cell_type": "markdown",
   "id": "5a2bb3b6",
   "metadata": {},
   "source": [
    "# T-Test 1\n",
    "Ace Realty wants to determine `whether the average time it takes to sell homes is different for its two offices`. A sample of 40 sales from office #1 revealed a mean of 90 days and a standard deviation of \n",
    "15 days. A sample of 50 sales from office #2 revealed a mean of 100 days and a standard deviation of 20 days. Use a .05 level of significance.\n",
    "\n",
    "$t = \\frac{\\bar{x}_1 - \\bar{x}_2}{s_p \\sqrt{\\frac{1}{n_1} + \\frac{1}{n_2}}}$\n",
    "\n",
    "Where $s_p$ is the pooled standard deviation, and is given by:\n",
    "\n",
    "$s_p = \\sqrt{\\frac{(n_1 - 1)s_1^2 + (n_2 - 1)s_2^2}{n_1 + n_2 -2}}$\n",
    "\n",
    "\n",
    "\n"
   ]
  },
  {
   "cell_type": "code",
   "execution_count": 2,
   "id": "44680319",
   "metadata": {},
   "outputs": [
    {
     "data": {
      "text/html": [
       "<div>\n",
       "<style scoped>\n",
       "    .dataframe tbody tr th:only-of-type {\n",
       "        vertical-align: middle;\n",
       "    }\n",
       "\n",
       "    .dataframe tbody tr th {\n",
       "        vertical-align: top;\n",
       "    }\n",
       "\n",
       "    .dataframe thead th {\n",
       "        text-align: right;\n",
       "    }\n",
       "</style>\n",
       "<table border=\"1\" class=\"dataframe\">\n",
       "  <thead>\n",
       "    <tr style=\"text-align: right;\">\n",
       "      <th></th>\n",
       "      <th>office</th>\n",
       "      <th>μ</th>\n",
       "      <th>σ</th>\n",
       "      <th>n_sales</th>\n",
       "    </tr>\n",
       "  </thead>\n",
       "  <tbody>\n",
       "    <tr>\n",
       "      <th>0</th>\n",
       "      <td>1</td>\n",
       "      <td>90</td>\n",
       "      <td>15</td>\n",
       "      <td>40</td>\n",
       "    </tr>\n",
       "    <tr>\n",
       "      <th>1</th>\n",
       "      <td>2</td>\n",
       "      <td>100</td>\n",
       "      <td>20</td>\n",
       "      <td>50</td>\n",
       "    </tr>\n",
       "  </tbody>\n",
       "</table>\n",
       "</div>"
      ],
      "text/plain": [
       "   office    μ   σ  n_sales\n",
       "0       1   90  15       40\n",
       "1       2  100  20       50"
      ]
     },
     "execution_count": 2,
     "metadata": {},
     "output_type": "execute_result"
    }
   ],
   "source": [
    "# Data to pandas data frame\n",
    "office_data = [{\"office\": 1, \"μ\" : 90, \"σ\" : 15, \"n_sales\" : 40},\n",
    "               {\"office\": 2, \"μ\" : 100, \"σ\" : 20, \"n_sales\" : 50}] #days #days\n",
    "\n",
    "df = pd.DataFrame(office_data)\n",
    "df"
   ]
  },
  {
   "cell_type": "code",
   "execution_count": 3,
   "id": "59eaead1",
   "metadata": {},
   "outputs": [
    {
     "data": {
      "text/plain": [
       "Ttest_indResult(statistic=-2.7091418459143854, pvalue=0.00811206270346016)"
      ]
     },
     "execution_count": 3,
     "metadata": {},
     "output_type": "execute_result"
    }
   ],
   "source": [
    "# Two Sample T-test\n",
    "# H_0 = There is NO difference in average time it takes for the offices to sell homes.\n",
    "# H_1 = There IS difference in average time it takes for the offices to sell homes.\n",
    "a = 0.05 #level of significance \n",
    "\n",
    "# x1 = \n",
    "# x2 = \n",
    "\n",
    "#df[df.μ==df[2][μ]]\n",
    "t_n_p = stats.ttest_ind_from_stats(90,15,40,100,20,50, equal_var=False)\n",
    "t_n_p\n"
   ]
  },
  {
   "cell_type": "code",
   "execution_count": 4,
   "id": "221d0a00",
   "metadata": {},
   "outputs": [
    {
     "data": {
      "text/plain": [
       "'Because the p-value (0.00811206270346016) is less than alpha value (0.05),we reject the null hypothesis'"
      ]
     },
     "execution_count": 4,
     "metadata": {},
     "output_type": "execute_result"
    }
   ],
   "source": [
    "f\"Because the p-value ({t_n_p[1]}) is less than alpha value ({a}),we reject the null hypothesis\""
   ]
  },
  {
   "cell_type": "markdown",
   "id": "a03c20b1",
   "metadata": {},
   "source": [
    "# T-Test  2\n",
    "##### Load the mpg dataset and use it to answer the following questions:"
   ]
  },
  {
   "cell_type": "code",
   "execution_count": 5,
   "id": "c268453d",
   "metadata": {},
   "outputs": [
    {
     "data": {
      "text/html": [
       "<div>\n",
       "<style scoped>\n",
       "    .dataframe tbody tr th:only-of-type {\n",
       "        vertical-align: middle;\n",
       "    }\n",
       "\n",
       "    .dataframe tbody tr th {\n",
       "        vertical-align: top;\n",
       "    }\n",
       "\n",
       "    .dataframe thead th {\n",
       "        text-align: right;\n",
       "    }\n",
       "</style>\n",
       "<table border=\"1\" class=\"dataframe\">\n",
       "  <thead>\n",
       "    <tr style=\"text-align: right;\">\n",
       "      <th></th>\n",
       "      <th>manufacturer</th>\n",
       "      <th>model</th>\n",
       "      <th>displ</th>\n",
       "      <th>year</th>\n",
       "      <th>cyl</th>\n",
       "      <th>trans</th>\n",
       "      <th>drv</th>\n",
       "      <th>cty</th>\n",
       "      <th>hwy</th>\n",
       "      <th>fl</th>\n",
       "      <th>class</th>\n",
       "    </tr>\n",
       "  </thead>\n",
       "  <tbody>\n",
       "    <tr>\n",
       "      <th>1</th>\n",
       "      <td>audi</td>\n",
       "      <td>a4</td>\n",
       "      <td>1.8</td>\n",
       "      <td>1999</td>\n",
       "      <td>4</td>\n",
       "      <td>auto(l5)</td>\n",
       "      <td>f</td>\n",
       "      <td>18</td>\n",
       "      <td>29</td>\n",
       "      <td>p</td>\n",
       "      <td>compact</td>\n",
       "    </tr>\n",
       "    <tr>\n",
       "      <th>2</th>\n",
       "      <td>audi</td>\n",
       "      <td>a4</td>\n",
       "      <td>1.8</td>\n",
       "      <td>1999</td>\n",
       "      <td>4</td>\n",
       "      <td>manual(m5)</td>\n",
       "      <td>f</td>\n",
       "      <td>21</td>\n",
       "      <td>29</td>\n",
       "      <td>p</td>\n",
       "      <td>compact</td>\n",
       "    </tr>\n",
       "    <tr>\n",
       "      <th>3</th>\n",
       "      <td>audi</td>\n",
       "      <td>a4</td>\n",
       "      <td>2.0</td>\n",
       "      <td>2008</td>\n",
       "      <td>4</td>\n",
       "      <td>manual(m6)</td>\n",
       "      <td>f</td>\n",
       "      <td>20</td>\n",
       "      <td>31</td>\n",
       "      <td>p</td>\n",
       "      <td>compact</td>\n",
       "    </tr>\n",
       "    <tr>\n",
       "      <th>4</th>\n",
       "      <td>audi</td>\n",
       "      <td>a4</td>\n",
       "      <td>2.0</td>\n",
       "      <td>2008</td>\n",
       "      <td>4</td>\n",
       "      <td>auto(av)</td>\n",
       "      <td>f</td>\n",
       "      <td>21</td>\n",
       "      <td>30</td>\n",
       "      <td>p</td>\n",
       "      <td>compact</td>\n",
       "    </tr>\n",
       "    <tr>\n",
       "      <th>5</th>\n",
       "      <td>audi</td>\n",
       "      <td>a4</td>\n",
       "      <td>2.8</td>\n",
       "      <td>1999</td>\n",
       "      <td>6</td>\n",
       "      <td>auto(l5)</td>\n",
       "      <td>f</td>\n",
       "      <td>16</td>\n",
       "      <td>26</td>\n",
       "      <td>p</td>\n",
       "      <td>compact</td>\n",
       "    </tr>\n",
       "  </tbody>\n",
       "</table>\n",
       "</div>"
      ],
      "text/plain": [
       "  manufacturer model  displ  year  cyl       trans drv  cty  hwy fl    class\n",
       "1         audi    a4    1.8  1999    4    auto(l5)   f   18   29  p  compact\n",
       "2         audi    a4    1.8  1999    4  manual(m5)   f   21   29  p  compact\n",
       "3         audi    a4    2.0  2008    4  manual(m6)   f   20   31  p  compact\n",
       "4         audi    a4    2.0  2008    4    auto(av)   f   21   30  p  compact\n",
       "5         audi    a4    2.8  1999    6    auto(l5)   f   16   26  p  compact"
      ]
     },
     "execution_count": 5,
     "metadata": {},
     "output_type": "execute_result"
    }
   ],
   "source": [
    "mpg = data('mpg')\n",
    "mpg.head()"
   ]
  },
  {
   "cell_type": "markdown",
   "id": "a1037a83",
   "metadata": {},
   "source": [
    "## 2.1\n",
    "##### Is there a difference in fuel-efficiency in cars from 2008 vs 1999?"
   ]
  },
  {
   "cell_type": "markdown",
   "id": "f8d4fd9f",
   "metadata": {},
   "source": [
    "1. Plot distrubution \n",
    "2. Establish Hypothesis\n",
    "3.  $\\alpha$ = 0.05\n",
    "4. Verify assumtion:\n",
    "    - More than 30 observations\n",
    "    - Independdent samples \n",
    "    - Equal Variance (set argument to False if not)\n",
    "\n",
    "5. Compute test statistcs and probability (t-statistics & p-value) using `stats.ttest_ind`\n",
    "6. Deside"
   ]
  },
  {
   "cell_type": "code",
   "execution_count": 6,
   "id": "b915332f",
   "metadata": {},
   "outputs": [
    {
     "data": {
      "text/html": [
       "<div>\n",
       "<style scoped>\n",
       "    .dataframe tbody tr th:only-of-type {\n",
       "        vertical-align: middle;\n",
       "    }\n",
       "\n",
       "    .dataframe tbody tr th {\n",
       "        vertical-align: top;\n",
       "    }\n",
       "\n",
       "    .dataframe thead th {\n",
       "        text-align: right;\n",
       "    }\n",
       "</style>\n",
       "<table border=\"1\" class=\"dataframe\">\n",
       "  <thead>\n",
       "    <tr style=\"text-align: right;\">\n",
       "      <th></th>\n",
       "      <th>manufacturer</th>\n",
       "      <th>model</th>\n",
       "      <th>displ</th>\n",
       "      <th>year</th>\n",
       "      <th>cyl</th>\n",
       "      <th>trans</th>\n",
       "      <th>drv</th>\n",
       "      <th>cty</th>\n",
       "      <th>hwy</th>\n",
       "      <th>fl</th>\n",
       "      <th>class</th>\n",
       "      <th>avg_fuel</th>\n",
       "    </tr>\n",
       "  </thead>\n",
       "  <tbody>\n",
       "    <tr>\n",
       "      <th>1</th>\n",
       "      <td>audi</td>\n",
       "      <td>a4</td>\n",
       "      <td>1.8</td>\n",
       "      <td>1999</td>\n",
       "      <td>4</td>\n",
       "      <td>auto(l5)</td>\n",
       "      <td>f</td>\n",
       "      <td>18</td>\n",
       "      <td>29</td>\n",
       "      <td>p</td>\n",
       "      <td>compact</td>\n",
       "      <td>22.212766</td>\n",
       "    </tr>\n",
       "    <tr>\n",
       "      <th>2</th>\n",
       "      <td>audi</td>\n",
       "      <td>a4</td>\n",
       "      <td>1.8</td>\n",
       "      <td>1999</td>\n",
       "      <td>4</td>\n",
       "      <td>manual(m5)</td>\n",
       "      <td>f</td>\n",
       "      <td>21</td>\n",
       "      <td>29</td>\n",
       "      <td>p</td>\n",
       "      <td>compact</td>\n",
       "      <td>24.360000</td>\n",
       "    </tr>\n",
       "    <tr>\n",
       "      <th>3</th>\n",
       "      <td>audi</td>\n",
       "      <td>a4</td>\n",
       "      <td>2.0</td>\n",
       "      <td>2008</td>\n",
       "      <td>4</td>\n",
       "      <td>manual(m6)</td>\n",
       "      <td>f</td>\n",
       "      <td>20</td>\n",
       "      <td>31</td>\n",
       "      <td>p</td>\n",
       "      <td>compact</td>\n",
       "      <td>24.313725</td>\n",
       "    </tr>\n",
       "    <tr>\n",
       "      <th>4</th>\n",
       "      <td>audi</td>\n",
       "      <td>a4</td>\n",
       "      <td>2.0</td>\n",
       "      <td>2008</td>\n",
       "      <td>4</td>\n",
       "      <td>auto(av)</td>\n",
       "      <td>f</td>\n",
       "      <td>21</td>\n",
       "      <td>30</td>\n",
       "      <td>p</td>\n",
       "      <td>compact</td>\n",
       "      <td>24.705882</td>\n",
       "    </tr>\n",
       "    <tr>\n",
       "      <th>5</th>\n",
       "      <td>audi</td>\n",
       "      <td>a4</td>\n",
       "      <td>2.8</td>\n",
       "      <td>1999</td>\n",
       "      <td>6</td>\n",
       "      <td>auto(l5)</td>\n",
       "      <td>f</td>\n",
       "      <td>16</td>\n",
       "      <td>26</td>\n",
       "      <td>p</td>\n",
       "      <td>compact</td>\n",
       "      <td>19.809524</td>\n",
       "    </tr>\n",
       "  </tbody>\n",
       "</table>\n",
       "</div>"
      ],
      "text/plain": [
       "  manufacturer model  displ  year  cyl       trans drv  cty  hwy fl    class  \\\n",
       "1         audi    a4    1.8  1999    4    auto(l5)   f   18   29  p  compact   \n",
       "2         audi    a4    1.8  1999    4  manual(m5)   f   21   29  p  compact   \n",
       "3         audi    a4    2.0  2008    4  manual(m6)   f   20   31  p  compact   \n",
       "4         audi    a4    2.0  2008    4    auto(av)   f   21   30  p  compact   \n",
       "5         audi    a4    2.8  1999    6    auto(l5)   f   16   26  p  compact   \n",
       "\n",
       "    avg_fuel  \n",
       "1  22.212766  \n",
       "2  24.360000  \n",
       "3  24.313725  \n",
       "4  24.705882  \n",
       "5  19.809524  "
      ]
     },
     "execution_count": 6,
     "metadata": {},
     "output_type": "execute_result"
    }
   ],
   "source": [
    "# Harmonig mean is appropiate if the data values are ratios\n",
    "mpg[\"avg_fuel\"] = stats.hmean(mpg[['cty', 'hwy']], axis =1)\n",
    "mpg.head()"
   ]
  },
  {
   "cell_type": "code",
   "execution_count": 7,
   "id": "bd22657a",
   "metadata": {},
   "outputs": [],
   "source": [
    "ave_2008 = mpg[mpg.year == 2008].avg_fuel\n",
    "ave_1999 = mpg[mpg.year == 1999].avg_fuel"
   ]
  },
  {
   "cell_type": "markdown",
   "id": "093add22",
   "metadata": {},
   "source": [
    "## 2.1.1 \n",
    "Plot distrubution"
   ]
  },
  {
   "cell_type": "code",
   "execution_count": 8,
   "id": "04923149",
   "metadata": {},
   "outputs": [
    {
     "data": {
      "text/plain": [
       "<AxesSubplot:>"
      ]
     },
     "execution_count": 8,
     "metadata": {},
     "output_type": "execute_result"
    },
    {
     "data": {
      "image/png": "[encoded data removed]",
      "text/plain": [
       "<Figure size 432x288 with 1 Axes>"
      ]
     },
     "metadata": {
      "needs_background": "light"
     },
     "output_type": "display_data"
    }
   ],
   "source": [
    "ave_2008.hist()"
   ]
  },
  {
   "cell_type": "code",
   "execution_count": 9,
   "id": "c37b38f6",
   "metadata": {},
   "outputs": [
    {
     "data": {
      "text/plain": [
       "<AxesSubplot:>"
      ]
     },
     "execution_count": 9,
     "metadata": {},
     "output_type": "execute_result"
    },
    {
     "data": {
      "image/png": "[encoded data removed]",
      "text/plain": [
       "<Figure size 432x288 with 1 Axes>"
      ]
     },
     "metadata": {
      "needs_background": "light"
     },
     "output_type": "display_data"
    }
   ],
   "source": [
    "ave_1999.hist() "
   ]
  },
  {
   "cell_type": "markdown",
   "id": "3a83552b",
   "metadata": {},
   "source": [
    "## 2.1.2\n",
    "Establish Hypothesis"
   ]
  },
  {
   "cell_type": "markdown",
   "id": "7699a475",
   "metadata": {},
   "source": [
    "* 2-sample: Data come from 2 subgroups \n",
    "* 2-tailed: Comparing mean provavility \n",
    "\n",
    "$H_0$ = There is NO difference in average fule consumption between 2008 and 2019 vehicles \n",
    "\n",
    "\n",
    "$H_a$ = There IS difference in average fule consumption between 2008 and 2019 vehicles "
   ]
  },
  {
   "cell_type": "markdown",
   "id": "ebd70921",
   "metadata": {},
   "source": [
    "## 2.1.3"
   ]
  },
  {
   "cell_type": "code",
   "execution_count": 10,
   "id": "94056c2a",
   "metadata": {},
   "outputs": [],
   "source": [
    "alpha = 0.05"
   ]
  },
  {
   "cell_type": "markdown",
   "id": "7641e735",
   "metadata": {},
   "source": [
    "## 2.1.4\n",
    "Verify assumtion:\n",
    "   - More than 30 observations (✓)\n",
    "   - Independdent samples (✓)\n",
    "   - Equal Variance (✕) (set argument to False if not)"
   ]
  },
  {
   "cell_type": "code",
   "execution_count": 11,
   "id": "f28aba50",
   "metadata": {
    "scrolled": true
   },
   "outputs": [
    {
     "data": {
      "text/plain": [
       "False"
      ]
     },
     "execution_count": 11,
     "metadata": {},
     "output_type": "execute_result"
    }
   ],
   "source": [
    "ave_2008.var() == ave_1999.var()"
   ]
  },
  {
   "cell_type": "markdown",
   "id": "99464038",
   "metadata": {},
   "source": [
    "## 2.1.5 \n",
    "Compute test statistcs and probability (t-statistics & p-value) using stats.ttest_ind"
   ]
  },
  {
   "cell_type": "code",
   "execution_count": 12,
   "id": "14e97696",
   "metadata": {},
   "outputs": [
    {
     "data": {
      "text/plain": [
       "Ttest_indResult(statistic=-0.3011962975077886, pvalue=0.7635358418225436)"
      ]
     },
     "execution_count": 12,
     "metadata": {},
     "output_type": "execute_result"
    }
   ],
   "source": [
    "t_n_p = stats.ttest_ind(ave_2008, ave_1999, equal_var=False)\n",
    "t_n_p"
   ]
  },
  {
   "cell_type": "markdown",
   "id": "df6b851c",
   "metadata": {},
   "source": [
    "## 2.1.6"
   ]
  },
  {
   "cell_type": "code",
   "execution_count": 13,
   "id": "ca03b573",
   "metadata": {},
   "outputs": [
    {
     "data": {
      "text/plain": [
       "'Because p (0.764) > alpha (.05), we fail to reject the null hypothesis that there is no difference in fuel-efficency in cars from 2008 and 1999.'"
      ]
     },
     "execution_count": 13,
     "metadata": {},
     "output_type": "execute_result"
    }
   ],
   "source": [
    "f'''Because p ({round(t_n_p[1], 3)}) > alpha (.05), we fail to reject the null\\\n",
    " hypothesis that there is no difference in fuel-efficency in cars\\\n",
    " from 2008 and 1999.'''"
   ]
  },
  {
   "cell_type": "markdown",
   "id": "31f93084",
   "metadata": {},
   "source": [
    "## 2.2\n",
    "#### Are compact cars more fuel-efficient than the average car?"
   ]
  },
  {
   "cell_type": "markdown",
   "id": "6bcaa8c3",
   "metadata": {},
   "source": [
    "1. Plot distrubution \n",
    "2. Establish Hypothesis\n",
    "3.  $\\alpha$ = 0.05\n",
    "4. Verify assumtion:\n",
    "    - More than 30 observations\n",
    "    - Independdent samples \n",
    "    - Equal Variance (set argument to False if not)\n",
    "\n",
    "5. Compute test statistic and probability (t-statistic & p-value) using `scipy.stats.ttest_1samp`.\n",
    "6. Deside."
   ]
  },
  {
   "cell_type": "code",
   "execution_count": 14,
   "id": "ebed6212",
   "metadata": {},
   "outputs": [
    {
     "data": {
      "text/html": [
       "<div>\n",
       "<style scoped>\n",
       "    .dataframe tbody tr th:only-of-type {\n",
       "        vertical-align: middle;\n",
       "    }\n",
       "\n",
       "    .dataframe tbody tr th {\n",
       "        vertical-align: top;\n",
       "    }\n",
       "\n",
       "    .dataframe thead th {\n",
       "        text-align: right;\n",
       "    }\n",
       "</style>\n",
       "<table border=\"1\" class=\"dataframe\">\n",
       "  <thead>\n",
       "    <tr style=\"text-align: right;\">\n",
       "      <th></th>\n",
       "      <th>manufacturer</th>\n",
       "      <th>model</th>\n",
       "      <th>displ</th>\n",
       "      <th>year</th>\n",
       "      <th>cyl</th>\n",
       "      <th>trans</th>\n",
       "      <th>drv</th>\n",
       "      <th>cty</th>\n",
       "      <th>hwy</th>\n",
       "      <th>fl</th>\n",
       "      <th>class</th>\n",
       "      <th>avg_fuel</th>\n",
       "    </tr>\n",
       "  </thead>\n",
       "  <tbody>\n",
       "    <tr>\n",
       "      <th>1</th>\n",
       "      <td>audi</td>\n",
       "      <td>a4</td>\n",
       "      <td>1.8</td>\n",
       "      <td>1999</td>\n",
       "      <td>4</td>\n",
       "      <td>auto(l5)</td>\n",
       "      <td>f</td>\n",
       "      <td>18</td>\n",
       "      <td>29</td>\n",
       "      <td>p</td>\n",
       "      <td>compact</td>\n",
       "      <td>22.212766</td>\n",
       "    </tr>\n",
       "    <tr>\n",
       "      <th>2</th>\n",
       "      <td>audi</td>\n",
       "      <td>a4</td>\n",
       "      <td>1.8</td>\n",
       "      <td>1999</td>\n",
       "      <td>4</td>\n",
       "      <td>manual(m5)</td>\n",
       "      <td>f</td>\n",
       "      <td>21</td>\n",
       "      <td>29</td>\n",
       "      <td>p</td>\n",
       "      <td>compact</td>\n",
       "      <td>24.360000</td>\n",
       "    </tr>\n",
       "    <tr>\n",
       "      <th>3</th>\n",
       "      <td>audi</td>\n",
       "      <td>a4</td>\n",
       "      <td>2.0</td>\n",
       "      <td>2008</td>\n",
       "      <td>4</td>\n",
       "      <td>manual(m6)</td>\n",
       "      <td>f</td>\n",
       "      <td>20</td>\n",
       "      <td>31</td>\n",
       "      <td>p</td>\n",
       "      <td>compact</td>\n",
       "      <td>24.313725</td>\n",
       "    </tr>\n",
       "    <tr>\n",
       "      <th>4</th>\n",
       "      <td>audi</td>\n",
       "      <td>a4</td>\n",
       "      <td>2.0</td>\n",
       "      <td>2008</td>\n",
       "      <td>4</td>\n",
       "      <td>auto(av)</td>\n",
       "      <td>f</td>\n",
       "      <td>21</td>\n",
       "      <td>30</td>\n",
       "      <td>p</td>\n",
       "      <td>compact</td>\n",
       "      <td>24.705882</td>\n",
       "    </tr>\n",
       "    <tr>\n",
       "      <th>5</th>\n",
       "      <td>audi</td>\n",
       "      <td>a4</td>\n",
       "      <td>2.8</td>\n",
       "      <td>1999</td>\n",
       "      <td>6</td>\n",
       "      <td>auto(l5)</td>\n",
       "      <td>f</td>\n",
       "      <td>16</td>\n",
       "      <td>26</td>\n",
       "      <td>p</td>\n",
       "      <td>compact</td>\n",
       "      <td>19.809524</td>\n",
       "    </tr>\n",
       "  </tbody>\n",
       "</table>\n",
       "</div>"
      ],
      "text/plain": [
       "  manufacturer model  displ  year  cyl       trans drv  cty  hwy fl    class  \\\n",
       "1         audi    a4    1.8  1999    4    auto(l5)   f   18   29  p  compact   \n",
       "2         audi    a4    1.8  1999    4  manual(m5)   f   21   29  p  compact   \n",
       "3         audi    a4    2.0  2008    4  manual(m6)   f   20   31  p  compact   \n",
       "4         audi    a4    2.0  2008    4    auto(av)   f   21   30  p  compact   \n",
       "5         audi    a4    2.8  1999    6    auto(l5)   f   16   26  p  compact   \n",
       "\n",
       "    avg_fuel  \n",
       "1  22.212766  \n",
       "2  24.360000  \n",
       "3  24.313725  \n",
       "4  24.705882  \n",
       "5  19.809524  "
      ]
     },
     "execution_count": 14,
     "metadata": {},
     "output_type": "execute_result"
    }
   ],
   "source": [
    "mpg.head()"
   ]
  },
  {
   "cell_type": "code",
   "execution_count": 15,
   "id": "15de6ad0",
   "metadata": {},
   "outputs": [
    {
     "data": {
      "text/html": [
       "<div>\n",
       "<style scoped>\n",
       "    .dataframe tbody tr th:only-of-type {\n",
       "        vertical-align: middle;\n",
       "    }\n",
       "\n",
       "    .dataframe tbody tr th {\n",
       "        vertical-align: top;\n",
       "    }\n",
       "\n",
       "    .dataframe thead th {\n",
       "        text-align: right;\n",
       "    }\n",
       "</style>\n",
       "<table border=\"1\" class=\"dataframe\">\n",
       "  <thead>\n",
       "    <tr style=\"text-align: right;\">\n",
       "      <th></th>\n",
       "      <th>manufacturer</th>\n",
       "      <th>model</th>\n",
       "      <th>displ</th>\n",
       "      <th>year</th>\n",
       "      <th>cyl</th>\n",
       "      <th>trans</th>\n",
       "      <th>drv</th>\n",
       "      <th>cty</th>\n",
       "      <th>hwy</th>\n",
       "      <th>fl</th>\n",
       "      <th>class</th>\n",
       "      <th>avg_fuel</th>\n",
       "    </tr>\n",
       "  </thead>\n",
       "  <tbody>\n",
       "    <tr>\n",
       "      <th>1</th>\n",
       "      <td>audi</td>\n",
       "      <td>a4</td>\n",
       "      <td>1.8</td>\n",
       "      <td>1999</td>\n",
       "      <td>4</td>\n",
       "      <td>auto(l5)</td>\n",
       "      <td>f</td>\n",
       "      <td>18</td>\n",
       "      <td>29</td>\n",
       "      <td>p</td>\n",
       "      <td>compact</td>\n",
       "      <td>22.212766</td>\n",
       "    </tr>\n",
       "    <tr>\n",
       "      <th>2</th>\n",
       "      <td>audi</td>\n",
       "      <td>a4</td>\n",
       "      <td>1.8</td>\n",
       "      <td>1999</td>\n",
       "      <td>4</td>\n",
       "      <td>manual(m5)</td>\n",
       "      <td>f</td>\n",
       "      <td>21</td>\n",
       "      <td>29</td>\n",
       "      <td>p</td>\n",
       "      <td>compact</td>\n",
       "      <td>24.360000</td>\n",
       "    </tr>\n",
       "    <tr>\n",
       "      <th>3</th>\n",
       "      <td>audi</td>\n",
       "      <td>a4</td>\n",
       "      <td>2.0</td>\n",
       "      <td>2008</td>\n",
       "      <td>4</td>\n",
       "      <td>manual(m6)</td>\n",
       "      <td>f</td>\n",
       "      <td>20</td>\n",
       "      <td>31</td>\n",
       "      <td>p</td>\n",
       "      <td>compact</td>\n",
       "      <td>24.313725</td>\n",
       "    </tr>\n",
       "    <tr>\n",
       "      <th>4</th>\n",
       "      <td>audi</td>\n",
       "      <td>a4</td>\n",
       "      <td>2.0</td>\n",
       "      <td>2008</td>\n",
       "      <td>4</td>\n",
       "      <td>auto(av)</td>\n",
       "      <td>f</td>\n",
       "      <td>21</td>\n",
       "      <td>30</td>\n",
       "      <td>p</td>\n",
       "      <td>compact</td>\n",
       "      <td>24.705882</td>\n",
       "    </tr>\n",
       "    <tr>\n",
       "      <th>5</th>\n",
       "      <td>audi</td>\n",
       "      <td>a4</td>\n",
       "      <td>2.8</td>\n",
       "      <td>1999</td>\n",
       "      <td>6</td>\n",
       "      <td>auto(l5)</td>\n",
       "      <td>f</td>\n",
       "      <td>16</td>\n",
       "      <td>26</td>\n",
       "      <td>p</td>\n",
       "      <td>compact</td>\n",
       "      <td>19.809524</td>\n",
       "    </tr>\n",
       "  </tbody>\n",
       "</table>\n",
       "</div>"
      ],
      "text/plain": [
       "  manufacturer model  displ  year  cyl       trans drv  cty  hwy fl    class  \\\n",
       "1         audi    a4    1.8  1999    4    auto(l5)   f   18   29  p  compact   \n",
       "2         audi    a4    1.8  1999    4  manual(m5)   f   21   29  p  compact   \n",
       "3         audi    a4    2.0  2008    4  manual(m6)   f   20   31  p  compact   \n",
       "4         audi    a4    2.0  2008    4    auto(av)   f   21   30  p  compact   \n",
       "5         audi    a4    2.8  1999    6    auto(l5)   f   16   26  p  compact   \n",
       "\n",
       "    avg_fuel  \n",
       "1  22.212766  \n",
       "2  24.360000  \n",
       "3  24.313725  \n",
       "4  24.705882  \n",
       "5  19.809524  "
      ]
     },
     "execution_count": 15,
     "metadata": {},
     "output_type": "execute_result"
    }
   ],
   "source": [
    "compact = mpg[mpg['class'] == 'compact']\n",
    "compact.head()"
   ]
  },
  {
   "cell_type": "markdown",
   "id": "84c9198d",
   "metadata": {},
   "source": [
    "## 2.2.1\n",
    "Plot distrubution"
   ]
  },
  {
   "cell_type": "code",
   "execution_count": 16,
   "id": "2f4d5a89",
   "metadata": {},
   "outputs": [
    {
     "data": {
      "text/plain": [
       "<AxesSubplot:>"
      ]
     },
     "execution_count": 16,
     "metadata": {},
     "output_type": "execute_result"
    },
    {
     "data": {
      "image/png": "[encoded data removed]",
      "text/plain": [
       "<Figure size 432x288 with 1 Axes>"
      ]
     },
     "metadata": {
      "needs_background": "light"
     },
     "output_type": "display_data"
    }
   ],
   "source": [
    "compact.avg_fuel.hist()"
   ]
  },
  {
   "cell_type": "markdown",
   "id": "f3fc727f",
   "metadata": {},
   "source": [
    "## 2.2.2\n",
    "Establish Hypothesis"
   ]
  },
  {
   "cell_type": "markdown",
   "id": "a44c1602",
   "metadata": {},
   "source": [
    "##### Are compact cars more fuel-efficient than the average car?\n",
    "\n",
    "* 2-sample: Data come from 2 subgroups \n",
    "* 1-tailed: Comparing mean higher than\n",
    "\n",
    "$H_0$ = compact cars have <= fuel efficiency than the average car \n",
    "\n",
    "\n",
    "\n",
    "$H_a$ = compact cars have > fuel efficincy than the average car "
   ]
  },
  {
   "cell_type": "markdown",
   "id": "b8e1ac44",
   "metadata": {},
   "source": [
    "## 2.2.3"
   ]
  },
  {
   "cell_type": "code",
   "execution_count": 17,
   "id": "99776123",
   "metadata": {},
   "outputs": [],
   "source": [
    "𝛼  = 0.05"
   ]
  },
  {
   "cell_type": "markdown",
   "id": "8b394d87",
   "metadata": {},
   "source": [
    "## 2.2.4\n",
    "Verify assumtion:\n",
    "   - More than 30 observations (✓)\n",
    "   - Independdent samples (✓)\n",
    "   - Equal Variance (✕) (set argument to False if not)"
   ]
  },
  {
   "cell_type": "code",
   "execution_count": 18,
   "id": "f4f01f4f",
   "metadata": {},
   "outputs": [
    {
     "data": {
      "text/plain": [
       "47"
      ]
     },
     "execution_count": 18,
     "metadata": {},
     "output_type": "execute_result"
    }
   ],
   "source": [
    "# More than 30 observations\n",
    "compact.shape[0]"
   ]
  },
  {
   "cell_type": "code",
   "execution_count": 19,
   "id": "63f09ebc",
   "metadata": {},
   "outputs": [
    {
     "data": {
      "text/plain": [
       "12.763933193960233"
      ]
     },
     "execution_count": 19,
     "metadata": {},
     "output_type": "execute_result"
    }
   ],
   "source": [
    "compact.avg_fuel.var()"
   ]
  },
  {
   "cell_type": "code",
   "execution_count": 20,
   "id": "53a8e3b8",
   "metadata": {},
   "outputs": [
    {
     "data": {
      "text/plain": [
       "24.106173930122633"
      ]
     },
     "execution_count": 20,
     "metadata": {},
     "output_type": "execute_result"
    }
   ],
   "source": [
    "mpg['avg_fuel'].var()"
   ]
  },
  {
   "cell_type": "markdown",
   "id": "b09f5e1e",
   "metadata": {},
   "source": [
    "## 2.2.5\n",
    "Compute test statistic and probability (t-statistic & p-value) using `scipy.stats.ttest_1samp.`"
   ]
  },
  {
   "cell_type": "code",
   "execution_count": 21,
   "id": "d6c49131",
   "metadata": {},
   "outputs": [
    {
     "data": {
      "text/plain": [
       "19.585525317633177"
      ]
     },
     "execution_count": 21,
     "metadata": {},
     "output_type": "execute_result"
    }
   ],
   "source": [
    "µ = mpg[\"avg_fuel\"].mean()\n",
    "µ"
   ]
  },
  {
   "cell_type": "code",
   "execution_count": 22,
   "id": "034cf9a1",
   "metadata": {},
   "outputs": [
    {
     "data": {
      "text/plain": [
       "(0.9883981601782644, 0.3683444543064755, 0.05)"
      ]
     },
     "execution_count": 22,
     "metadata": {},
     "output_type": "execute_result"
    }
   ],
   "source": [
    "t, p = stats.ttest_1samp(compact.mean(), µ)\n",
    "t, p, 𝛼"
   ]
  },
  {
   "cell_type": "markdown",
   "id": "497e1225",
   "metadata": {},
   "source": [
    "6. Deside"
   ]
  },
  {
   "cell_type": "markdown",
   "id": "28a6a777",
   "metadata": {},
   "source": [
    "## 2.3\n",
    "Do manual cars get better gas mileage than automatic cars?\n",
    "\n",
    "1. Plot distrubution \n",
    "2. Establish Hypothesis\n",
    "3.  $\\alpha$ = 0.05\n",
    "4. Verify assumtion:\n",
    "    - More than 30 observations\n",
    "    - Independdent samples \n",
    "    - Equal Variance (set argument to False if not)\n",
    "\n",
    "5. Compute test statistic and probability (t-statistic & p-value) \n",
    "6. Deside."
   ]
  },
  {
   "cell_type": "markdown",
   "id": "068c543c",
   "metadata": {},
   "source": [
    "$H_0$: mean mpg for manual cars <= mean mpg for automatic cars\n",
    "\n",
    "$H_a$: mean mpg for manual cars > mean mpg for automatic cars"
   ]
  },
  {
   "cell_type": "code",
   "execution_count": 23,
   "id": "d46583e1",
   "metadata": {},
   "outputs": [],
   "source": [
    "fuel_auto = mpg[mpg.trans.str.contains('auto')].avg_fuel\n",
    "fuel_manual = mpg[mpg.trans.str.contains('manual')].avg_fuel"
   ]
  },
  {
   "cell_type": "code",
   "execution_count": 24,
   "id": "5bb7b3a7",
   "metadata": {},
   "outputs": [
    {
     "data": {
      "text/plain": [
       "<AxesSubplot:>"
      ]
     },
     "execution_count": 24,
     "metadata": {},
     "output_type": "execute_result"
    },
    {
     "data": {
      "image/png": "[encoded data removed]",
      "text/plain": [
       "<Figure size 432x288 with 1 Axes>"
      ]
     },
     "metadata": {
      "needs_background": "light"
     },
     "output_type": "display_data"
    }
   ],
   "source": [
    "fuel_auto.hist()"
   ]
  },
  {
   "cell_type": "code",
   "execution_count": 25,
   "id": "47c58738",
   "metadata": {},
   "outputs": [
    {
     "data": {
      "text/plain": [
       "<AxesSubplot:>"
      ]
     },
     "execution_count": 25,
     "metadata": {},
     "output_type": "execute_result"
    },
    {
     "data": {
      "image/png": "[encoded data removed]",
      "text/plain": [
       "<Figure size 432x288 with 1 Axes>"
      ]
     },
     "metadata": {
      "needs_background": "light"
     },
     "output_type": "display_data"
    }
   ],
   "source": [
    "fuel_manual.hist()"
   ]
  },
  {
   "cell_type": "code",
   "execution_count": 26,
   "id": "8faba1c1",
   "metadata": {},
   "outputs": [
    {
     "data": {
      "text/plain": [
       "False"
      ]
     },
     "execution_count": 26,
     "metadata": {},
     "output_type": "execute_result"
    }
   ],
   "source": [
    "fuel_manual.var() == fuel_auto.var()"
   ]
  },
  {
   "cell_type": "code",
   "execution_count": 27,
   "id": "c1e9846f",
   "metadata": {},
   "outputs": [
    {
     "data": {
      "text/plain": [
       "Ttest_indResult(statistic=4.652577547151351, pvalue=5.510464610044005e-06)"
      ]
     },
     "execution_count": 27,
     "metadata": {},
     "output_type": "execute_result"
    }
   ],
   "source": [
    "stats.ttest_ind(fuel_manual, fuel_auto, equal_var = True)"
   ]
  },
  {
   "cell_type": "code",
   "execution_count": 28,
   "id": "819ad7f7",
   "metadata": {},
   "outputs": [
    {
     "data": {
      "text/plain": [
       "(4.652577547151351, 2.7552323050220026e-06, 0.05)"
      ]
     },
     "execution_count": 28,
     "metadata": {},
     "output_type": "execute_result"
    }
   ],
   "source": [
    "\n",
    "t, p = stats.ttest_ind(fuel_manual, fuel_auto, equal_var = True)\n",
    "t, p/2, alpha"
   ]
  },
  {
   "cell_type": "code",
   "execution_count": 29,
   "id": "133e74ed",
   "metadata": {},
   "outputs": [
    {
     "name": "stdout",
     "output_type": "stream",
     "text": [
      "\n",
      "Because p/2 (0.000003) < alpha (.05), and t > 0, we reject the null hypothesis\n"
     ]
    }
   ],
   "source": [
    "print(f'''\n",
    "Because p/2 ({p/2:.6f}) < alpha (.05), and t > 0, we reject the null hypothesis''')"
   ]
  },
  {
   "cell_type": "code",
   "execution_count": 30,
   "id": "40baa127",
   "metadata": {},
   "outputs": [],
   "source": [
    "mpg['transmission_type'] = np.where(mpg.trans.str.contains('auto'), 'Auto Transmission', 'Manual Transmission')"
   ]
  },
  {
   "cell_type": "code",
   "execution_count": 31,
   "id": "9eabfbd4",
   "metadata": {},
   "outputs": [
    {
     "data": {
      "text/plain": [
       "Text(0.5, 1.0, 'Is mileage different by transmission type?')"
      ]
     },
     "execution_count": 31,
     "metadata": {},
     "output_type": "execute_result"
    },
    {
     "data": {
      "image/png": "[encoded data removed]",
      "text/plain": [
       "<Figure size 432x288 with 1 Axes>"
      ]
     },
     "metadata": {
      "needs_background": "light"
     },
     "output_type": "display_data"
    }
   ],
   "source": [
    "mpg.groupby('transmission_type').avg_fuel.mean().plot.bar()\n",
    "plt.xticks(rotation=0)\n",
    "plt.xlabel('')\n",
    "plt.ylabel('Average mileage')\n",
    "plt.title('Is mileage different by transmission type?')"
   ]
  },
  {
   "cell_type": "markdown",
   "id": "00cee2a3",
   "metadata": {},
   "source": [
    "# Correlation "
   ]
  },
  {
   "cell_type": "markdown",
   "id": "d169fe63",
   "metadata": {},
   "source": [
    "# 1\n",
    "Use the telco_churn data. \n",
    "\n",
    "## 1.1 Does tenure correlate with monthly charges?\n"
   ]
  },
  {
   "cell_type": "code",
   "execution_count": 32,
   "id": "00cc4c20",
   "metadata": {},
   "outputs": [
    {
     "data": {
      "text/html": [
       "<div>\n",
       "<style scoped>\n",
       "    .dataframe tbody tr th:only-of-type {\n",
       "        vertical-align: middle;\n",
       "    }\n",
       "\n",
       "    .dataframe tbody tr th {\n",
       "        vertical-align: top;\n",
       "    }\n",
       "\n",
       "    .dataframe thead th {\n",
       "        text-align: right;\n",
       "    }\n",
       "</style>\n",
       "<table border=\"1\" class=\"dataframe\">\n",
       "  <thead>\n",
       "    <tr style=\"text-align: right;\">\n",
       "      <th></th>\n",
       "      <th>0</th>\n",
       "      <th>1</th>\n",
       "      <th>2</th>\n",
       "      <th>3</th>\n",
       "      <th>4</th>\n",
       "      <th>5</th>\n",
       "      <th>6</th>\n",
       "      <th>7</th>\n",
       "      <th>8</th>\n",
       "      <th>9</th>\n",
       "      <th>...</th>\n",
       "      <th>7033</th>\n",
       "      <th>7034</th>\n",
       "      <th>7035</th>\n",
       "      <th>7036</th>\n",
       "      <th>7037</th>\n",
       "      <th>7038</th>\n",
       "      <th>7039</th>\n",
       "      <th>7040</th>\n",
       "      <th>7041</th>\n",
       "      <th>7042</th>\n",
       "    </tr>\n",
       "  </thead>\n",
       "  <tbody>\n",
       "    <tr>\n",
       "      <th>idx</th>\n",
       "      <td>946</td>\n",
       "      <td>1732</td>\n",
       "      <td>1907</td>\n",
       "      <td>2026</td>\n",
       "      <td>2177</td>\n",
       "      <td>2251</td>\n",
       "      <td>2856</td>\n",
       "      <td>3053</td>\n",
       "      <td>3119</td>\n",
       "      <td>4055</td>\n",
       "      <td>...</td>\n",
       "      <td>366</td>\n",
       "      <td>6185</td>\n",
       "      <td>2698</td>\n",
       "      <td>3227</td>\n",
       "      <td>2749</td>\n",
       "      <td>534</td>\n",
       "      <td>5039</td>\n",
       "      <td>4269</td>\n",
       "      <td>5836</td>\n",
       "      <td>4168</td>\n",
       "    </tr>\n",
       "    <tr>\n",
       "      <th>customer_id</th>\n",
       "      <td>1371-DWPAZ</td>\n",
       "      <td>2520-SGTTA</td>\n",
       "      <td>2775-SEFEE</td>\n",
       "      <td>2923-ARZLG</td>\n",
       "      <td>3115-CZMZD</td>\n",
       "      <td>3213-VVOLG</td>\n",
       "      <td>4075-WKNIU</td>\n",
       "      <td>4367-NUYAO</td>\n",
       "      <td>4472-LVYGI</td>\n",
       "      <td>5709-LVOEQ</td>\n",
       "      <td>...</td>\n",
       "      <td>0536-ACXIP</td>\n",
       "      <td>8749-TZYEC</td>\n",
       "      <td>3836-FZSDJ</td>\n",
       "      <td>4625-XMOYM</td>\n",
       "      <td>3910-MRQOY</td>\n",
       "      <td>0784-ZQJZX</td>\n",
       "      <td>7083-MIOPC</td>\n",
       "      <td>6010-DDPPW</td>\n",
       "      <td>8207-VVMYB</td>\n",
       "      <td>5893-KCLGT</td>\n",
       "    </tr>\n",
       "    <tr>\n",
       "      <th>gender</th>\n",
       "      <td>Female</td>\n",
       "      <td>Female</td>\n",
       "      <td>Male</td>\n",
       "      <td>Male</td>\n",
       "      <td>Male</td>\n",
       "      <td>Male</td>\n",
       "      <td>Female</td>\n",
       "      <td>Male</td>\n",
       "      <td>Female</td>\n",
       "      <td>Female</td>\n",
       "      <td>...</td>\n",
       "      <td>Female</td>\n",
       "      <td>Male</td>\n",
       "      <td>Male</td>\n",
       "      <td>Female</td>\n",
       "      <td>Female</td>\n",
       "      <td>Male</td>\n",
       "      <td>Female</td>\n",
       "      <td>Male</td>\n",
       "      <td>Female</td>\n",
       "      <td>Female</td>\n",
       "    </tr>\n",
       "    <tr>\n",
       "      <th>is_senior_citizen</th>\n",
       "      <td>0</td>\n",
       "      <td>0</td>\n",
       "      <td>0</td>\n",
       "      <td>0</td>\n",
       "      <td>0</td>\n",
       "      <td>0</td>\n",
       "      <td>0</td>\n",
       "      <td>0</td>\n",
       "      <td>0</td>\n",
       "      <td>0</td>\n",
       "      <td>...</td>\n",
       "      <td>0</td>\n",
       "      <td>0</td>\n",
       "      <td>1</td>\n",
       "      <td>0</td>\n",
       "      <td>0</td>\n",
       "      <td>0</td>\n",
       "      <td>0</td>\n",
       "      <td>0</td>\n",
       "      <td>0</td>\n",
       "      <td>0</td>\n",
       "    </tr>\n",
       "    <tr>\n",
       "      <th>partner</th>\n",
       "      <td>Yes</td>\n",
       "      <td>Yes</td>\n",
       "      <td>No</td>\n",
       "      <td>Yes</td>\n",
       "      <td>No</td>\n",
       "      <td>Yes</td>\n",
       "      <td>Yes</td>\n",
       "      <td>Yes</td>\n",
       "      <td>Yes</td>\n",
       "      <td>Yes</td>\n",
       "      <td>...</td>\n",
       "      <td>Yes</td>\n",
       "      <td>Yes</td>\n",
       "      <td>Yes</td>\n",
       "      <td>Yes</td>\n",
       "      <td>Yes</td>\n",
       "      <td>No</td>\n",
       "      <td>No</td>\n",
       "      <td>Yes</td>\n",
       "      <td>Yes</td>\n",
       "      <td>No</td>\n",
       "    </tr>\n",
       "    <tr>\n",
       "      <th>dependents</th>\n",
       "      <td>Yes</td>\n",
       "      <td>Yes</td>\n",
       "      <td>Yes</td>\n",
       "      <td>Yes</td>\n",
       "      <td>Yes</td>\n",
       "      <td>Yes</td>\n",
       "      <td>Yes</td>\n",
       "      <td>Yes</td>\n",
       "      <td>Yes</td>\n",
       "      <td>Yes</td>\n",
       "      <td>...</td>\n",
       "      <td>No</td>\n",
       "      <td>No</td>\n",
       "      <td>No</td>\n",
       "      <td>Yes</td>\n",
       "      <td>No</td>\n",
       "      <td>Yes</td>\n",
       "      <td>No</td>\n",
       "      <td>No</td>\n",
       "      <td>No</td>\n",
       "      <td>Yes</td>\n",
       "    </tr>\n",
       "    <tr>\n",
       "      <th>phone_service</th>\n",
       "      <td>0</td>\n",
       "      <td>1</td>\n",
       "      <td>2</td>\n",
       "      <td>1</td>\n",
       "      <td>1</td>\n",
       "      <td>2</td>\n",
       "      <td>2</td>\n",
       "      <td>2</td>\n",
       "      <td>0</td>\n",
       "      <td>1</td>\n",
       "      <td>...</td>\n",
       "      <td>2</td>\n",
       "      <td>2</td>\n",
       "      <td>2</td>\n",
       "      <td>2</td>\n",
       "      <td>1</td>\n",
       "      <td>1</td>\n",
       "      <td>1</td>\n",
       "      <td>2</td>\n",
       "      <td>2</td>\n",
       "      <td>1</td>\n",
       "    </tr>\n",
       "    <tr>\n",
       "      <th>internet_service</th>\n",
       "      <td>1</td>\n",
       "      <td>0</td>\n",
       "      <td>1</td>\n",
       "      <td>0</td>\n",
       "      <td>0</td>\n",
       "      <td>0</td>\n",
       "      <td>1</td>\n",
       "      <td>0</td>\n",
       "      <td>1</td>\n",
       "      <td>1</td>\n",
       "      <td>...</td>\n",
       "      <td>2</td>\n",
       "      <td>0</td>\n",
       "      <td>0</td>\n",
       "      <td>0</td>\n",
       "      <td>0</td>\n",
       "      <td>0</td>\n",
       "      <td>0</td>\n",
       "      <td>0</td>\n",
       "      <td>0</td>\n",
       "      <td>0</td>\n",
       "    </tr>\n",
       "    <tr>\n",
       "      <th>contract_type</th>\n",
       "      <td>2</td>\n",
       "      <td>2</td>\n",
       "      <td>2</td>\n",
       "      <td>1</td>\n",
       "      <td>2</td>\n",
       "      <td>2</td>\n",
       "      <td>2</td>\n",
       "      <td>2</td>\n",
       "      <td>2</td>\n",
       "      <td>2</td>\n",
       "      <td>...</td>\n",
       "      <td>2</td>\n",
       "      <td>2</td>\n",
       "      <td>2</td>\n",
       "      <td>2</td>\n",
       "      <td>2</td>\n",
       "      <td>2</td>\n",
       "      <td>2</td>\n",
       "      <td>2</td>\n",
       "      <td>2</td>\n",
       "      <td>2</td>\n",
       "    </tr>\n",
       "    <tr>\n",
       "      <th>payment_type</th>\n",
       "      <td>Credit card (automatic)</td>\n",
       "      <td>Mailed check</td>\n",
       "      <td>Bank transfer (automatic)</td>\n",
       "      <td>Mailed check</td>\n",
       "      <td>Mailed check</td>\n",
       "      <td>Mailed check</td>\n",
       "      <td>Mailed check</td>\n",
       "      <td>Mailed check</td>\n",
       "      <td>Bank transfer (automatic)</td>\n",
       "      <td>Mailed check</td>\n",
       "      <td>...</td>\n",
       "      <td>Electronic check</td>\n",
       "      <td>Credit card (automatic)</td>\n",
       "      <td>Bank transfer (automatic)</td>\n",
       "      <td>Bank transfer (automatic)</td>\n",
       "      <td>Bank transfer (automatic)</td>\n",
       "      <td>Credit card (automatic)</td>\n",
       "      <td>Credit card (automatic)</td>\n",
       "      <td>Bank transfer (automatic)</td>\n",
       "      <td>Bank transfer (automatic)</td>\n",
       "      <td>Mailed check</td>\n",
       "    </tr>\n",
       "    <tr>\n",
       "      <th>monthly_charges</th>\n",
       "      <td>56.05</td>\n",
       "      <td>20.0</td>\n",
       "      <td>61.9</td>\n",
       "      <td>19.7</td>\n",
       "      <td>20.25</td>\n",
       "      <td>25.35</td>\n",
       "      <td>73.35</td>\n",
       "      <td>25.75</td>\n",
       "      <td>52.55</td>\n",
       "      <td>80.85</td>\n",
       "      <td>...</td>\n",
       "      <td>109.55</td>\n",
       "      <td>24.8</td>\n",
       "      <td>24.85</td>\n",
       "      <td>26.25</td>\n",
       "      <td>19.4</td>\n",
       "      <td>19.9</td>\n",
       "      <td>20.25</td>\n",
       "      <td>25.15</td>\n",
       "      <td>26.0</td>\n",
       "      <td>19.75</td>\n",
       "    </tr>\n",
       "    <tr>\n",
       "      <th>total_charges</th>\n",
       "      <td>NaN</td>\n",
       "      <td>NaN</td>\n",
       "      <td>NaN</td>\n",
       "      <td>NaN</td>\n",
       "      <td>NaN</td>\n",
       "      <td>NaN</td>\n",
       "      <td>NaN</td>\n",
       "      <td>NaN</td>\n",
       "      <td>NaN</td>\n",
       "      <td>NaN</td>\n",
       "      <td>...</td>\n",
       "      <td>8165.1</td>\n",
       "      <td>1874.3</td>\n",
       "      <td>1901.0</td>\n",
       "      <td>1988.05</td>\n",
       "      <td>1496.45</td>\n",
       "      <td>1529.65</td>\n",
       "      <td>1566.9</td>\n",
       "      <td>1940.85</td>\n",
       "      <td>2006.95</td>\n",
       "      <td>1567.0</td>\n",
       "    </tr>\n",
       "    <tr>\n",
       "      <th>churn</th>\n",
       "      <td>No</td>\n",
       "      <td>No</td>\n",
       "      <td>No</td>\n",
       "      <td>No</td>\n",
       "      <td>No</td>\n",
       "      <td>No</td>\n",
       "      <td>No</td>\n",
       "      <td>No</td>\n",
       "      <td>No</td>\n",
       "      <td>No</td>\n",
       "      <td>...</td>\n",
       "      <td>No</td>\n",
       "      <td>No</td>\n",
       "      <td>No</td>\n",
       "      <td>No</td>\n",
       "      <td>No</td>\n",
       "      <td>No</td>\n",
       "      <td>No</td>\n",
       "      <td>No</td>\n",
       "      <td>No</td>\n",
       "      <td>No</td>\n",
       "    </tr>\n",
       "    <tr>\n",
       "      <th>tenure</th>\n",
       "      <td>0</td>\n",
       "      <td>0</td>\n",
       "      <td>0</td>\n",
       "      <td>0</td>\n",
       "      <td>0</td>\n",
       "      <td>0</td>\n",
       "      <td>0</td>\n",
       "      <td>0</td>\n",
       "      <td>0</td>\n",
       "      <td>0</td>\n",
       "      <td>...</td>\n",
       "      <td>75</td>\n",
       "      <td>76</td>\n",
       "      <td>76</td>\n",
       "      <td>76</td>\n",
       "      <td>77</td>\n",
       "      <td>77</td>\n",
       "      <td>77</td>\n",
       "      <td>77</td>\n",
       "      <td>77</td>\n",
       "      <td>79</td>\n",
       "    </tr>\n",
       "    <tr>\n",
       "      <th>is_female</th>\n",
       "      <td>True</td>\n",
       "      <td>True</td>\n",
       "      <td>False</td>\n",
       "      <td>False</td>\n",
       "      <td>False</td>\n",
       "      <td>False</td>\n",
       "      <td>True</td>\n",
       "      <td>False</td>\n",
       "      <td>True</td>\n",
       "      <td>True</td>\n",
       "      <td>...</td>\n",
       "      <td>True</td>\n",
       "      <td>False</td>\n",
       "      <td>False</td>\n",
       "      <td>True</td>\n",
       "      <td>True</td>\n",
       "      <td>False</td>\n",
       "      <td>True</td>\n",
       "      <td>False</td>\n",
       "      <td>True</td>\n",
       "      <td>True</td>\n",
       "    </tr>\n",
       "    <tr>\n",
       "      <th>has_churned</th>\n",
       "      <td>False</td>\n",
       "      <td>False</td>\n",
       "      <td>False</td>\n",
       "      <td>False</td>\n",
       "      <td>False</td>\n",
       "      <td>False</td>\n",
       "      <td>False</td>\n",
       "      <td>False</td>\n",
       "      <td>False</td>\n",
       "      <td>False</td>\n",
       "      <td>...</td>\n",
       "      <td>False</td>\n",
       "      <td>False</td>\n",
       "      <td>False</td>\n",
       "      <td>False</td>\n",
       "      <td>False</td>\n",
       "      <td>False</td>\n",
       "      <td>False</td>\n",
       "      <td>False</td>\n",
       "      <td>False</td>\n",
       "      <td>False</td>\n",
       "    </tr>\n",
       "    <tr>\n",
       "      <th>has_phone</th>\n",
       "      <td>False</td>\n",
       "      <td>True</td>\n",
       "      <td>True</td>\n",
       "      <td>True</td>\n",
       "      <td>True</td>\n",
       "      <td>True</td>\n",
       "      <td>True</td>\n",
       "      <td>True</td>\n",
       "      <td>False</td>\n",
       "      <td>True</td>\n",
       "      <td>...</td>\n",
       "      <td>True</td>\n",
       "      <td>True</td>\n",
       "      <td>True</td>\n",
       "      <td>True</td>\n",
       "      <td>True</td>\n",
       "      <td>True</td>\n",
       "      <td>True</td>\n",
       "      <td>True</td>\n",
       "      <td>True</td>\n",
       "      <td>True</td>\n",
       "    </tr>\n",
       "    <tr>\n",
       "      <th>has_internet</th>\n",
       "      <td>True</td>\n",
       "      <td>False</td>\n",
       "      <td>True</td>\n",
       "      <td>False</td>\n",
       "      <td>False</td>\n",
       "      <td>False</td>\n",
       "      <td>True</td>\n",
       "      <td>False</td>\n",
       "      <td>True</td>\n",
       "      <td>True</td>\n",
       "      <td>...</td>\n",
       "      <td>True</td>\n",
       "      <td>False</td>\n",
       "      <td>False</td>\n",
       "      <td>False</td>\n",
       "      <td>False</td>\n",
       "      <td>False</td>\n",
       "      <td>False</td>\n",
       "      <td>False</td>\n",
       "      <td>False</td>\n",
       "      <td>False</td>\n",
       "    </tr>\n",
       "    <tr>\n",
       "      <th>has_phone_and_internet</th>\n",
       "      <td>False</td>\n",
       "      <td>False</td>\n",
       "      <td>True</td>\n",
       "      <td>False</td>\n",
       "      <td>False</td>\n",
       "      <td>False</td>\n",
       "      <td>True</td>\n",
       "      <td>False</td>\n",
       "      <td>False</td>\n",
       "      <td>True</td>\n",
       "      <td>...</td>\n",
       "      <td>True</td>\n",
       "      <td>False</td>\n",
       "      <td>False</td>\n",
       "      <td>False</td>\n",
       "      <td>False</td>\n",
       "      <td>False</td>\n",
       "      <td>False</td>\n",
       "      <td>False</td>\n",
       "      <td>False</td>\n",
       "      <td>False</td>\n",
       "    </tr>\n",
       "    <tr>\n",
       "      <th>partner_dependents</th>\n",
       "      <td>3</td>\n",
       "      <td>3</td>\n",
       "      <td>2</td>\n",
       "      <td>3</td>\n",
       "      <td>2</td>\n",
       "      <td>3</td>\n",
       "      <td>3</td>\n",
       "      <td>3</td>\n",
       "      <td>3</td>\n",
       "      <td>3</td>\n",
       "      <td>...</td>\n",
       "      <td>1</td>\n",
       "      <td>1</td>\n",
       "      <td>1</td>\n",
       "      <td>3</td>\n",
       "      <td>1</td>\n",
       "      <td>2</td>\n",
       "      <td>0</td>\n",
       "      <td>1</td>\n",
       "      <td>1</td>\n",
       "      <td>2</td>\n",
       "    </tr>\n",
       "    <tr>\n",
       "      <th>start_date</th>\n",
       "      <td>2021-10-30</td>\n",
       "      <td>2021-10-30</td>\n",
       "      <td>2021-10-30</td>\n",
       "      <td>2021-10-30</td>\n",
       "      <td>2021-10-30</td>\n",
       "      <td>2021-10-30</td>\n",
       "      <td>2021-10-30</td>\n",
       "      <td>2021-10-30</td>\n",
       "      <td>2021-10-30</td>\n",
       "      <td>2021-10-30</td>\n",
       "      <td>...</td>\n",
       "      <td>2015-08-01</td>\n",
       "      <td>2015-07-02</td>\n",
       "      <td>2015-07-02</td>\n",
       "      <td>2015-07-02</td>\n",
       "      <td>2015-06-01</td>\n",
       "      <td>2015-06-01</td>\n",
       "      <td>2015-06-01</td>\n",
       "      <td>2015-06-01</td>\n",
       "      <td>2015-06-01</td>\n",
       "      <td>2015-04-02</td>\n",
       "    </tr>\n",
       "    <tr>\n",
       "      <th>average_monthly_charges</th>\n",
       "      <td>NaN</td>\n",
       "      <td>NaN</td>\n",
       "      <td>NaN</td>\n",
       "      <td>NaN</td>\n",
       "      <td>NaN</td>\n",
       "      <td>NaN</td>\n",
       "      <td>NaN</td>\n",
       "      <td>NaN</td>\n",
       "      <td>NaN</td>\n",
       "      <td>NaN</td>\n",
       "      <td>...</td>\n",
       "      <td>$109.55</td>\n",
       "      <td>$24.80</td>\n",
       "      <td>$24.85</td>\n",
       "      <td>$26.25</td>\n",
       "      <td>$19.40</td>\n",
       "      <td>$19.90</td>\n",
       "      <td>$20.25</td>\n",
       "      <td>$25.15</td>\n",
       "      <td>$26.00</td>\n",
       "      <td>$19.75</td>\n",
       "    </tr>\n",
       "    <tr>\n",
       "      <th>contract_type.1</th>\n",
       "      <td>2 Year</td>\n",
       "      <td>2 Year</td>\n",
       "      <td>2 Year</td>\n",
       "      <td>1 Year</td>\n",
       "      <td>2 Year</td>\n",
       "      <td>2 Year</td>\n",
       "      <td>2 Year</td>\n",
       "      <td>2 Year</td>\n",
       "      <td>2 Year</td>\n",
       "      <td>2 Year</td>\n",
       "      <td>...</td>\n",
       "      <td>2 Year</td>\n",
       "      <td>2 Year</td>\n",
       "      <td>2 Year</td>\n",
       "      <td>2 Year</td>\n",
       "      <td>2 Year</td>\n",
       "      <td>2 Year</td>\n",
       "      <td>2 Year</td>\n",
       "      <td>2 Year</td>\n",
       "      <td>2 Year</td>\n",
       "      <td>2 Year</td>\n",
       "    </tr>\n",
       "    <tr>\n",
       "      <th>phone_service.1</th>\n",
       "      <td>No Phone Service</td>\n",
       "      <td>One Line</td>\n",
       "      <td>Two or More Lines</td>\n",
       "      <td>One Line</td>\n",
       "      <td>One Line</td>\n",
       "      <td>Two or More Lines</td>\n",
       "      <td>Two or More Lines</td>\n",
       "      <td>Two or More Lines</td>\n",
       "      <td>No Phone Service</td>\n",
       "      <td>One Line</td>\n",
       "      <td>...</td>\n",
       "      <td>Two or More Lines</td>\n",
       "      <td>Two or More Lines</td>\n",
       "      <td>Two or More Lines</td>\n",
       "      <td>Two or More Lines</td>\n",
       "      <td>One Line</td>\n",
       "      <td>One Line</td>\n",
       "      <td>One Line</td>\n",
       "      <td>Two or More Lines</td>\n",
       "      <td>Two or More Lines</td>\n",
       "      <td>One Line</td>\n",
       "    </tr>\n",
       "    <tr>\n",
       "      <th>internet_service.1</th>\n",
       "      <td>DSL</td>\n",
       "      <td>No Internet Service</td>\n",
       "      <td>DSL</td>\n",
       "      <td>No Internet Service</td>\n",
       "      <td>No Internet Service</td>\n",
       "      <td>No Internet Service</td>\n",
       "      <td>DSL</td>\n",
       "      <td>No Internet Service</td>\n",
       "      <td>DSL</td>\n",
       "      <td>DSL</td>\n",
       "      <td>...</td>\n",
       "      <td>Fiber Optic</td>\n",
       "      <td>No Internet Service</td>\n",
       "      <td>No Internet Service</td>\n",
       "      <td>No Internet Service</td>\n",
       "      <td>No Internet Service</td>\n",
       "      <td>No Internet Service</td>\n",
       "      <td>No Internet Service</td>\n",
       "      <td>No Internet Service</td>\n",
       "      <td>No Internet Service</td>\n",
       "      <td>No Internet Service</td>\n",
       "    </tr>\n",
       "    <tr>\n",
       "      <th>type_of_service</th>\n",
       "      <td>2-Internet</td>\n",
       "      <td>1-Phone</td>\n",
       "      <td>3-Phone&amp;Internet</td>\n",
       "      <td>1-Phone</td>\n",
       "      <td>1-Phone</td>\n",
       "      <td>1-Phone</td>\n",
       "      <td>3-Phone&amp;Internet</td>\n",
       "      <td>1-Phone</td>\n",
       "      <td>2-Internet</td>\n",
       "      <td>3-Phone&amp;Internet</td>\n",
       "      <td>...</td>\n",
       "      <td>3-Phone&amp;Internet</td>\n",
       "      <td>1-Phone</td>\n",
       "      <td>1-Phone</td>\n",
       "      <td>1-Phone</td>\n",
       "      <td>1-Phone</td>\n",
       "      <td>1-Phone</td>\n",
       "      <td>1-Phone</td>\n",
       "      <td>1-Phone</td>\n",
       "      <td>1-Phone</td>\n",
       "      <td>1-Phone</td>\n",
       "    </tr>\n",
       "  </tbody>\n",
       "</table>\n",
       "<p>26 rows × 7043 columns</p>\n",
       "</div>"
      ],
      "text/plain": [
       "                                            0                    1     \\\n",
       "idx                                          946                 1732   \n",
       "customer_id                           1371-DWPAZ           2520-SGTTA   \n",
       "gender                                    Female               Female   \n",
       "is_senior_citizen                              0                    0   \n",
       "partner                                      Yes                  Yes   \n",
       "dependents                                   Yes                  Yes   \n",
       "phone_service                                  0                    1   \n",
       "internet_service                               1                    0   \n",
       "contract_type                                  2                    2   \n",
       "payment_type             Credit card (automatic)         Mailed check   \n",
       "monthly_charges                            56.05                 20.0   \n",
       "total_charges                                NaN                  NaN   \n",
       "churn                                         No                   No   \n",
       "tenure                                         0                    0   \n",
       "is_female                                   True                 True   \n",
       "has_churned                                False                False   \n",
       "has_phone                                  False                 True   \n",
       "has_internet                                True                False   \n",
       "has_phone_and_internet                     False                False   \n",
       "partner_dependents                             3                    3   \n",
       "start_date                            2021-10-30           2021-10-30   \n",
       "average_monthly_charges                      NaN                  NaN   \n",
       "contract_type.1                           2 Year               2 Year   \n",
       "phone_service.1                 No Phone Service             One Line   \n",
       "internet_service.1                           DSL  No Internet Service   \n",
       "type_of_service                       2-Internet              1-Phone   \n",
       "\n",
       "                                              2                    3     \\\n",
       "idx                                           1907                 2026   \n",
       "customer_id                             2775-SEFEE           2923-ARZLG   \n",
       "gender                                        Male                 Male   \n",
       "is_senior_citizen                                0                    0   \n",
       "partner                                         No                  Yes   \n",
       "dependents                                     Yes                  Yes   \n",
       "phone_service                                    2                    1   \n",
       "internet_service                                 1                    0   \n",
       "contract_type                                    2                    1   \n",
       "payment_type             Bank transfer (automatic)         Mailed check   \n",
       "monthly_charges                               61.9                 19.7   \n",
       "total_charges                                  NaN                  NaN   \n",
       "churn                                           No                   No   \n",
       "tenure                                           0                    0   \n",
       "is_female                                    False                False   \n",
       "has_churned                                  False                False   \n",
       "has_phone                                     True                 True   \n",
       "has_internet                                  True                False   \n",
       "has_phone_and_internet                        True                False   \n",
       "partner_dependents                               2                    3   \n",
       "start_date                              2021-10-30           2021-10-30   \n",
       "average_monthly_charges                        NaN                  NaN   \n",
       "contract_type.1                             2 Year               1 Year   \n",
       "phone_service.1                  Two or More Lines             One Line   \n",
       "internet_service.1                             DSL  No Internet Service   \n",
       "type_of_service                   3-Phone&Internet              1-Phone   \n",
       "\n",
       "                                        4                    5     \\\n",
       "idx                                     2177                 2251   \n",
       "customer_id                       3115-CZMZD           3213-VVOLG   \n",
       "gender                                  Male                 Male   \n",
       "is_senior_citizen                          0                    0   \n",
       "partner                                   No                  Yes   \n",
       "dependents                               Yes                  Yes   \n",
       "phone_service                              1                    2   \n",
       "internet_service                           0                    0   \n",
       "contract_type                              2                    2   \n",
       "payment_type                    Mailed check         Mailed check   \n",
       "monthly_charges                        20.25                25.35   \n",
       "total_charges                            NaN                  NaN   \n",
       "churn                                     No                   No   \n",
       "tenure                                     0                    0   \n",
       "is_female                              False                False   \n",
       "has_churned                            False                False   \n",
       "has_phone                               True                 True   \n",
       "has_internet                           False                False   \n",
       "has_phone_and_internet                 False                False   \n",
       "partner_dependents                         2                    3   \n",
       "start_date                        2021-10-30           2021-10-30   \n",
       "average_monthly_charges                  NaN                  NaN   \n",
       "contract_type.1                       2 Year               2 Year   \n",
       "phone_service.1                     One Line    Two or More Lines   \n",
       "internet_service.1       No Internet Service  No Internet Service   \n",
       "type_of_service                      1-Phone              1-Phone   \n",
       "\n",
       "                                      6                    7     \\\n",
       "idx                                   2856                 3053   \n",
       "customer_id                     4075-WKNIU           4367-NUYAO   \n",
       "gender                              Female                 Male   \n",
       "is_senior_citizen                        0                    0   \n",
       "partner                                Yes                  Yes   \n",
       "dependents                             Yes                  Yes   \n",
       "phone_service                            2                    2   \n",
       "internet_service                         1                    0   \n",
       "contract_type                            2                    2   \n",
       "payment_type                  Mailed check         Mailed check   \n",
       "monthly_charges                      73.35                25.75   \n",
       "total_charges                          NaN                  NaN   \n",
       "churn                                   No                   No   \n",
       "tenure                                   0                    0   \n",
       "is_female                             True                False   \n",
       "has_churned                          False                False   \n",
       "has_phone                             True                 True   \n",
       "has_internet                          True                False   \n",
       "has_phone_and_internet                True                False   \n",
       "partner_dependents                       3                    3   \n",
       "start_date                      2021-10-30           2021-10-30   \n",
       "average_monthly_charges                NaN                  NaN   \n",
       "contract_type.1                     2 Year               2 Year   \n",
       "phone_service.1          Two or More Lines    Two or More Lines   \n",
       "internet_service.1                     DSL  No Internet Service   \n",
       "type_of_service           3-Phone&Internet              1-Phone   \n",
       "\n",
       "                                              8                 9     ...  \\\n",
       "idx                                           3119              4055  ...   \n",
       "customer_id                             4472-LVYGI        5709-LVOEQ  ...   \n",
       "gender                                      Female            Female  ...   \n",
       "is_senior_citizen                                0                 0  ...   \n",
       "partner                                        Yes               Yes  ...   \n",
       "dependents                                     Yes               Yes  ...   \n",
       "phone_service                                    0                 1  ...   \n",
       "internet_service                                 1                 1  ...   \n",
       "contract_type                                    2                 2  ...   \n",
       "payment_type             Bank transfer (automatic)      Mailed check  ...   \n",
       "monthly_charges                              52.55             80.85  ...   \n",
       "total_charges                                  NaN               NaN  ...   \n",
       "churn                                           No                No  ...   \n",
       "tenure                                           0                 0  ...   \n",
       "is_female                                     True              True  ...   \n",
       "has_churned                                  False             False  ...   \n",
       "has_phone                                    False              True  ...   \n",
       "has_internet                                  True              True  ...   \n",
       "has_phone_and_internet                       False              True  ...   \n",
       "partner_dependents                               3                 3  ...   \n",
       "start_date                              2021-10-30        2021-10-30  ...   \n",
       "average_monthly_charges                        NaN               NaN  ...   \n",
       "contract_type.1                             2 Year            2 Year  ...   \n",
       "phone_service.1                   No Phone Service          One Line  ...   \n",
       "internet_service.1                             DSL               DSL  ...   \n",
       "type_of_service                         2-Internet  3-Phone&Internet  ...   \n",
       "\n",
       "                                      7033                     7034  \\\n",
       "idx                                    366                     6185   \n",
       "customer_id                     0536-ACXIP               8749-TZYEC   \n",
       "gender                              Female                     Male   \n",
       "is_senior_citizen                        0                        0   \n",
       "partner                                Yes                      Yes   \n",
       "dependents                              No                       No   \n",
       "phone_service                            2                        2   \n",
       "internet_service                         2                        0   \n",
       "contract_type                            2                        2   \n",
       "payment_type              Electronic check  Credit card (automatic)   \n",
       "monthly_charges                     109.55                     24.8   \n",
       "total_charges                       8165.1                   1874.3   \n",
       "churn                                   No                       No   \n",
       "tenure                                  75                       76   \n",
       "is_female                             True                    False   \n",
       "has_churned                          False                    False   \n",
       "has_phone                             True                     True   \n",
       "has_internet                          True                    False   \n",
       "has_phone_and_internet                True                    False   \n",
       "partner_dependents                       1                        1   \n",
       "start_date                      2015-08-01               2015-07-02   \n",
       "average_monthly_charges            $109.55                   $24.80   \n",
       "contract_type.1                     2 Year                   2 Year   \n",
       "phone_service.1          Two or More Lines        Two or More Lines   \n",
       "internet_service.1             Fiber Optic      No Internet Service   \n",
       "type_of_service           3-Phone&Internet                  1-Phone   \n",
       "\n",
       "                                              7035                       7036  \\\n",
       "idx                                           2698                       3227   \n",
       "customer_id                             3836-FZSDJ                 4625-XMOYM   \n",
       "gender                                        Male                     Female   \n",
       "is_senior_citizen                                1                          0   \n",
       "partner                                        Yes                        Yes   \n",
       "dependents                                      No                        Yes   \n",
       "phone_service                                    2                          2   \n",
       "internet_service                                 0                          0   \n",
       "contract_type                                    2                          2   \n",
       "payment_type             Bank transfer (automatic)  Bank transfer (automatic)   \n",
       "monthly_charges                              24.85                      26.25   \n",
       "total_charges                               1901.0                    1988.05   \n",
       "churn                                           No                         No   \n",
       "tenure                                          76                         76   \n",
       "is_female                                    False                       True   \n",
       "has_churned                                  False                      False   \n",
       "has_phone                                     True                       True   \n",
       "has_internet                                 False                      False   \n",
       "has_phone_and_internet                       False                      False   \n",
       "partner_dependents                               1                          3   \n",
       "start_date                              2015-07-02                 2015-07-02   \n",
       "average_monthly_charges                     $24.85                     $26.25   \n",
       "contract_type.1                             2 Year                     2 Year   \n",
       "phone_service.1                  Two or More Lines          Two or More Lines   \n",
       "internet_service.1             No Internet Service        No Internet Service   \n",
       "type_of_service                            1-Phone                    1-Phone   \n",
       "\n",
       "                                              7037                     7038  \\\n",
       "idx                                           2749                      534   \n",
       "customer_id                             3910-MRQOY               0784-ZQJZX   \n",
       "gender                                      Female                     Male   \n",
       "is_senior_citizen                                0                        0   \n",
       "partner                                        Yes                       No   \n",
       "dependents                                      No                      Yes   \n",
       "phone_service                                    1                        1   \n",
       "internet_service                                 0                        0   \n",
       "contract_type                                    2                        2   \n",
       "payment_type             Bank transfer (automatic)  Credit card (automatic)   \n",
       "monthly_charges                               19.4                     19.9   \n",
       "total_charges                              1496.45                  1529.65   \n",
       "churn                                           No                       No   \n",
       "tenure                                          77                       77   \n",
       "is_female                                     True                    False   \n",
       "has_churned                                  False                    False   \n",
       "has_phone                                     True                     True   \n",
       "has_internet                                 False                    False   \n",
       "has_phone_and_internet                       False                    False   \n",
       "partner_dependents                               1                        2   \n",
       "start_date                              2015-06-01               2015-06-01   \n",
       "average_monthly_charges                     $19.40                   $19.90   \n",
       "contract_type.1                             2 Year                   2 Year   \n",
       "phone_service.1                           One Line                 One Line   \n",
       "internet_service.1             No Internet Service      No Internet Service   \n",
       "type_of_service                            1-Phone                  1-Phone   \n",
       "\n",
       "                                            7039                       7040  \\\n",
       "idx                                         5039                       4269   \n",
       "customer_id                           7083-MIOPC                 6010-DDPPW   \n",
       "gender                                    Female                       Male   \n",
       "is_senior_citizen                              0                          0   \n",
       "partner                                       No                        Yes   \n",
       "dependents                                    No                         No   \n",
       "phone_service                                  1                          2   \n",
       "internet_service                               0                          0   \n",
       "contract_type                                  2                          2   \n",
       "payment_type             Credit card (automatic)  Bank transfer (automatic)   \n",
       "monthly_charges                            20.25                      25.15   \n",
       "total_charges                             1566.9                    1940.85   \n",
       "churn                                         No                         No   \n",
       "tenure                                        77                         77   \n",
       "is_female                                   True                      False   \n",
       "has_churned                                False                      False   \n",
       "has_phone                                   True                       True   \n",
       "has_internet                               False                      False   \n",
       "has_phone_and_internet                     False                      False   \n",
       "partner_dependents                             0                          1   \n",
       "start_date                            2015-06-01                 2015-06-01   \n",
       "average_monthly_charges                   $20.25                     $25.15   \n",
       "contract_type.1                           2 Year                     2 Year   \n",
       "phone_service.1                         One Line          Two or More Lines   \n",
       "internet_service.1           No Internet Service        No Internet Service   \n",
       "type_of_service                          1-Phone                    1-Phone   \n",
       "\n",
       "                                              7041                 7042  \n",
       "idx                                           5836                 4168  \n",
       "customer_id                             8207-VVMYB           5893-KCLGT  \n",
       "gender                                      Female               Female  \n",
       "is_senior_citizen                                0                    0  \n",
       "partner                                        Yes                   No  \n",
       "dependents                                      No                  Yes  \n",
       "phone_service                                    2                    1  \n",
       "internet_service                                 0                    0  \n",
       "contract_type                                    2                    2  \n",
       "payment_type             Bank transfer (automatic)         Mailed check  \n",
       "monthly_charges                               26.0                19.75  \n",
       "total_charges                              2006.95               1567.0  \n",
       "churn                                           No                   No  \n",
       "tenure                                          77                   79  \n",
       "is_female                                     True                 True  \n",
       "has_churned                                  False                False  \n",
       "has_phone                                     True                 True  \n",
       "has_internet                                 False                False  \n",
       "has_phone_and_internet                       False                False  \n",
       "partner_dependents                               1                    2  \n",
       "start_date                              2015-06-01           2015-04-02  \n",
       "average_monthly_charges                     $26.00               $19.75  \n",
       "contract_type.1                             2 Year               2 Year  \n",
       "phone_service.1                  Two or More Lines             One Line  \n",
       "internet_service.1             No Internet Service  No Internet Service  \n",
       "type_of_service                            1-Phone              1-Phone  \n",
       "\n",
       "[26 rows x 7043 columns]"
      ]
     },
     "execution_count": 32,
     "metadata": {},
     "output_type": "execute_result"
    }
   ],
   "source": [
    "csv = \"telco_data.csv\"\n",
    "df = pd.read_csv(csv)\n",
    "df.T"
   ]
  },
  {
   "cell_type": "code",
   "execution_count": 33,
   "id": "321e8547",
   "metadata": {},
   "outputs": [
    {
     "data": {
      "text/html": [
       "<div>\n",
       "<style scoped>\n",
       "    .dataframe tbody tr th:only-of-type {\n",
       "        vertical-align: middle;\n",
       "    }\n",
       "\n",
       "    .dataframe tbody tr th {\n",
       "        vertical-align: top;\n",
       "    }\n",
       "\n",
       "    .dataframe thead th {\n",
       "        text-align: right;\n",
       "    }\n",
       "</style>\n",
       "<table border=\"1\" class=\"dataframe\">\n",
       "  <thead>\n",
       "    <tr style=\"text-align: right;\">\n",
       "      <th></th>\n",
       "      <th>customer_id</th>\n",
       "      <th>gender</th>\n",
       "      <th>is_senior_citizen</th>\n",
       "      <th>partner</th>\n",
       "      <th>dependents</th>\n",
       "      <th>phone_service</th>\n",
       "      <th>internet_service</th>\n",
       "      <th>contract_int</th>\n",
       "      <th>payment_type</th>\n",
       "      <th>monthly_charges</th>\n",
       "      <th>...</th>\n",
       "      <th>tenure_month</th>\n",
       "      <th>has_churned</th>\n",
       "      <th>has_phone</th>\n",
       "      <th>has_internet</th>\n",
       "      <th>has_internet_and_phone</th>\n",
       "      <th>partner_dependents</th>\n",
       "      <th>start_day</th>\n",
       "      <th>phone_type</th>\n",
       "      <th>internet_type</th>\n",
       "      <th>contract_type</th>\n",
       "    </tr>\n",
       "    <tr>\n",
       "      <th>id</th>\n",
       "      <th></th>\n",
       "      <th></th>\n",
       "      <th></th>\n",
       "      <th></th>\n",
       "      <th></th>\n",
       "      <th></th>\n",
       "      <th></th>\n",
       "      <th></th>\n",
       "      <th></th>\n",
       "      <th></th>\n",
       "      <th></th>\n",
       "      <th></th>\n",
       "      <th></th>\n",
       "      <th></th>\n",
       "      <th></th>\n",
       "      <th></th>\n",
       "      <th></th>\n",
       "      <th></th>\n",
       "      <th></th>\n",
       "      <th></th>\n",
       "      <th></th>\n",
       "    </tr>\n",
       "  </thead>\n",
       "  <tbody>\n",
       "    <tr>\n",
       "      <th>0</th>\n",
       "      <td>0002-ORFBO</td>\n",
       "      <td>Female</td>\n",
       "      <td>0</td>\n",
       "      <td>Yes</td>\n",
       "      <td>Yes</td>\n",
       "      <td>1</td>\n",
       "      <td>1</td>\n",
       "      <td>1</td>\n",
       "      <td>Mailed check</td>\n",
       "      <td>65.6</td>\n",
       "      <td>...</td>\n",
       "      <td>9.0</td>\n",
       "      <td>False</td>\n",
       "      <td>True</td>\n",
       "      <td>True</td>\n",
       "      <td>True</td>\n",
       "      <td>3</td>\n",
       "      <td>2020-05-03</td>\n",
       "      <td>One Line</td>\n",
       "      <td>DSL</td>\n",
       "      <td>1 Year</td>\n",
       "    </tr>\n",
       "    <tr>\n",
       "      <th>1</th>\n",
       "      <td>0003-MKNFE</td>\n",
       "      <td>Male</td>\n",
       "      <td>0</td>\n",
       "      <td>No</td>\n",
       "      <td>No</td>\n",
       "      <td>2</td>\n",
       "      <td>1</td>\n",
       "      <td>0</td>\n",
       "      <td>Mailed check</td>\n",
       "      <td>59.9</td>\n",
       "      <td>...</td>\n",
       "      <td>9.1</td>\n",
       "      <td>False</td>\n",
       "      <td>True</td>\n",
       "      <td>True</td>\n",
       "      <td>True</td>\n",
       "      <td>0</td>\n",
       "      <td>2020-05-03</td>\n",
       "      <td>Two or More Lines</td>\n",
       "      <td>DSL</td>\n",
       "      <td>Month-to-Month</td>\n",
       "    </tr>\n",
       "    <tr>\n",
       "      <th>2</th>\n",
       "      <td>0004-TLHLJ</td>\n",
       "      <td>Male</td>\n",
       "      <td>0</td>\n",
       "      <td>No</td>\n",
       "      <td>No</td>\n",
       "      <td>1</td>\n",
       "      <td>2</td>\n",
       "      <td>0</td>\n",
       "      <td>Electronic check</td>\n",
       "      <td>73.9</td>\n",
       "      <td>...</td>\n",
       "      <td>3.8</td>\n",
       "      <td>True</td>\n",
       "      <td>True</td>\n",
       "      <td>True</td>\n",
       "      <td>True</td>\n",
       "      <td>0</td>\n",
       "      <td>2020-11-03</td>\n",
       "      <td>One Line</td>\n",
       "      <td>Fiber Optic</td>\n",
       "      <td>Month-to-Month</td>\n",
       "    </tr>\n",
       "    <tr>\n",
       "      <th>3</th>\n",
       "      <td>0011-IGKFF</td>\n",
       "      <td>Male</td>\n",
       "      <td>1</td>\n",
       "      <td>Yes</td>\n",
       "      <td>No</td>\n",
       "      <td>1</td>\n",
       "      <td>2</td>\n",
       "      <td>0</td>\n",
       "      <td>Electronic check</td>\n",
       "      <td>98.0</td>\n",
       "      <td>...</td>\n",
       "      <td>12.6</td>\n",
       "      <td>True</td>\n",
       "      <td>True</td>\n",
       "      <td>True</td>\n",
       "      <td>True</td>\n",
       "      <td>1</td>\n",
       "      <td>2020-02-03</td>\n",
       "      <td>One Line</td>\n",
       "      <td>Fiber Optic</td>\n",
       "      <td>Month-to-Month</td>\n",
       "    </tr>\n",
       "    <tr>\n",
       "      <th>4</th>\n",
       "      <td>0013-EXCHZ</td>\n",
       "      <td>Female</td>\n",
       "      <td>1</td>\n",
       "      <td>Yes</td>\n",
       "      <td>No</td>\n",
       "      <td>1</td>\n",
       "      <td>2</td>\n",
       "      <td>0</td>\n",
       "      <td>Mailed check</td>\n",
       "      <td>83.9</td>\n",
       "      <td>...</td>\n",
       "      <td>3.2</td>\n",
       "      <td>True</td>\n",
       "      <td>True</td>\n",
       "      <td>True</td>\n",
       "      <td>True</td>\n",
       "      <td>1</td>\n",
       "      <td>2020-11-03</td>\n",
       "      <td>One Line</td>\n",
       "      <td>Fiber Optic</td>\n",
       "      <td>Month-to-Month</td>\n",
       "    </tr>\n",
       "  </tbody>\n",
       "</table>\n",
       "<p>5 rows × 22 columns</p>\n",
       "</div>"
      ],
      "text/plain": [
       "   customer_id  gender  is_senior_citizen partner dependents  phone_service  \\\n",
       "id                                                                            \n",
       "0   0002-ORFBO  Female                  0     Yes        Yes              1   \n",
       "1   0003-MKNFE    Male                  0      No         No              2   \n",
       "2   0004-TLHLJ    Male                  0      No         No              1   \n",
       "3   0011-IGKFF    Male                  1     Yes         No              1   \n",
       "4   0013-EXCHZ  Female                  1     Yes         No              1   \n",
       "\n",
       "    internet_service  contract_int      payment_type  monthly_charges  ...  \\\n",
       "id                                                                     ...   \n",
       "0                  1             1      Mailed check             65.6  ...   \n",
       "1                  1             0      Mailed check             59.9  ...   \n",
       "2                  2             0  Electronic check             73.9  ...   \n",
       "3                  2             0  Electronic check             98.0  ...   \n",
       "4                  2             0      Mailed check             83.9  ...   \n",
       "\n",
       "    tenure_month has_churned  has_phone  has_internet  has_internet_and_phone  \\\n",
       "id                                                                              \n",
       "0            9.0       False       True          True                    True   \n",
       "1            9.1       False       True          True                    True   \n",
       "2            3.8        True       True          True                    True   \n",
       "3           12.6        True       True          True                    True   \n",
       "4            3.2        True       True          True                    True   \n",
       "\n",
       "    partner_dependents   start_day         phone_type internet_type  \\\n",
       "id                                                                    \n",
       "0                    3  2020-05-03           One Line           DSL   \n",
       "1                    0  2020-05-03  Two or More Lines           DSL   \n",
       "2                    0  2020-11-03           One Line   Fiber Optic   \n",
       "3                    1  2020-02-03           One Line   Fiber Optic   \n",
       "4                    1  2020-11-03           One Line   Fiber Optic   \n",
       "\n",
       "     contract_type  \n",
       "id                  \n",
       "0           1 Year  \n",
       "1   Month-to-Month  \n",
       "2   Month-to-Month  \n",
       "3   Month-to-Month  \n",
       "4   Month-to-Month  \n",
       "\n",
       "[5 rows x 22 columns]"
      ]
     },
     "execution_count": 33,
     "metadata": {},
     "output_type": "execute_result"
    }
   ],
   "source": [
    "url = \"https://gist.githubusercontent.com/ryanorsinger/3fce5a65b5fb8ab728af5192c7de857e/raw/a0422b7b73749842611742a1064e99088a47917d/clean_telco.csv\"\n",
    "df = pd.read_csv(url, index_col=\"id\")\n",
    "df.head()"
   ]
  },
  {
   "cell_type": "code",
   "execution_count": 34,
   "id": "7b1b4fc6",
   "metadata": {},
   "outputs": [
    {
     "name": "stderr",
     "output_type": "stream",
     "text": [
      "<__array_function__ internals>:5: RuntimeWarning: Converting input from bool to <class 'numpy.uint8'> for compatibility.\n",
      "<__array_function__ internals>:5: RuntimeWarning: Converting input from bool to <class 'numpy.uint8'> for compatibility.\n",
      "<__array_function__ internals>:5: RuntimeWarning: Converting input from bool to <class 'numpy.uint8'> for compatibility.\n",
      "<__array_function__ internals>:5: RuntimeWarning: Converting input from bool to <class 'numpy.uint8'> for compatibility.\n",
      "<__array_function__ internals>:5: RuntimeWarning: Converting input from bool to <class 'numpy.uint8'> for compatibility.\n",
      "<__array_function__ internals>:5: RuntimeWarning: Converting input from bool to <class 'numpy.uint8'> for compatibility.\n",
      "<__array_function__ internals>:5: RuntimeWarning: Converting input from bool to <class 'numpy.uint8'> for compatibility.\n",
      "<__array_function__ internals>:5: RuntimeWarning: Converting input from bool to <class 'numpy.uint8'> for compatibility.\n"
     ]
    },
    {
     "data": {
      "image/png": "[encoded data removed]",
      "text/plain": [
       "<Figure size 2160x2160 with 90 Axes>"
      ]
     },
     "metadata": {
      "needs_background": "light"
     },
     "output_type": "display_data"
    }
   ],
   "source": [
    "sns.pairplot(df, corner=True)\n",
    "plt.suptitle(\"sns.pairplot visualizes continuous variable relationships\")\n",
    "plt.show()\n"
   ]
  },
  {
   "cell_type": "markdown",
   "id": "49d39477",
   "metadata": {},
   "source": [
    "$H_o$: There is no linear correlation between tenure and monthly charges \n",
    "\n",
    "$H_a$: There is linear correlation between tenure and monthly charges "
   ]
  },
  {
   "cell_type": "code",
   "execution_count": 35,
   "id": "9994c7fe",
   "metadata": {},
   "outputs": [
    {
     "data": {
      "text/plain": [
       "0.050000000000000044"
      ]
     },
     "execution_count": 35,
     "metadata": {},
     "output_type": "execute_result"
    }
   ],
   "source": [
    "confidence_level = 0.95\n",
    "alpha = 1 - confidence_level\n",
    "alpha"
   ]
  },
  {
   "cell_type": "code",
   "execution_count": 36,
   "id": "b2d555f8",
   "metadata": {},
   "outputs": [
    {
     "data": {
      "text/plain": [
       "(0.24602222678861455, 1.8834273042677756e-97)"
      ]
     },
     "execution_count": 36,
     "metadata": {},
     "output_type": "execute_result"
    }
   ],
   "source": [
    "corr, p = stats.pearsonr(df.tenure_month, df.monthly_charges)\n",
    "\n",
    "corr, p"
   ]
  },
  {
   "cell_type": "code",
   "execution_count": 37,
   "id": "b1ebad5a",
   "metadata": {},
   "outputs": [
    {
     "name": "stdout",
     "output_type": "stream",
     "text": [
      "We reject the null hypothesis\n"
     ]
    }
   ],
   "source": [
    "if p < alpha:\n",
    "    print(\"We reject the null hypothesis\")\n",
    "else:\n",
    "    print(\"We fail to reject the null hypothesis\")\n",
    "    "
   ]
  },
  {
   "cell_type": "markdown",
   "id": "0d2878f7",
   "metadata": {},
   "source": [
    "## 1.2\n",
    "Total charges? "
   ]
  },
  {
   "cell_type": "markdown",
   "id": "a7295682",
   "metadata": {},
   "source": [
    "$H_o$: There is no linear correlation between tenure and total charges \n",
    "\n",
    "$H_a$: There is linear correlation between tenure and total charges "
   ]
  },
  {
   "cell_type": "code",
   "execution_count": 38,
   "id": "fe43e93f",
   "metadata": {},
   "outputs": [],
   "source": [
    "corr, p = stats.pearsonr(df.tenure_month, df.total_charges)"
   ]
  },
  {
   "cell_type": "code",
   "execution_count": 39,
   "id": "2a85ec22",
   "metadata": {},
   "outputs": [
    {
     "name": "stdout",
     "output_type": "stream",
     "text": [
      "We reject the null hypothesis\n"
     ]
    }
   ],
   "source": [
    "if p < alpha:\n",
    "    print(\"We reject the null hypothesis\")\n",
    "else:\n",
    "    print(\"We fail to reject the null hypothesis\")"
   ]
  },
  {
   "cell_type": "markdown",
   "id": "1bbd2382",
   "metadata": {},
   "source": [
    "## 1.3 \n",
    "What happens if you control for phone and internet service?\n",
    "\n",
    "$H_o$: There is **no** linear correlation between tenure and monthly charges \n",
    "\n",
    "$H_a$:There **is** linear correlation between tenure and monthly charges\n"
   ]
  },
  {
   "cell_type": "code",
   "execution_count": null,
   "id": "183981b8",
   "metadata": {},
   "outputs": [],
   "source": []
  },
  {
   "cell_type": "markdown",
   "id": "35637d07",
   "metadata": {},
   "source": [
    "# 2\n",
    "Use `employees` database\n",
    "\n",
    "## 2.1\n",
    "Is there a relationship between how long an employee has been with the company and their salary?"
   ]
  },
  {
   "cell_type": "code",
   "execution_count": 40,
   "id": "34c4b389",
   "metadata": {},
   "outputs": [
    {
     "data": {
      "text/html": [
       "<div>\n",
       "<style scoped>\n",
       "    .dataframe tbody tr th:only-of-type {\n",
       "        vertical-align: middle;\n",
       "    }\n",
       "\n",
       "    .dataframe tbody tr th {\n",
       "        vertical-align: top;\n",
       "    }\n",
       "\n",
       "    .dataframe thead th {\n",
       "        text-align: right;\n",
       "    }\n",
       "</style>\n",
       "<table border=\"1\" class=\"dataframe\">\n",
       "  <thead>\n",
       "    <tr style=\"text-align: right;\">\n",
       "      <th></th>\n",
       "      <th>emp_no</th>\n",
       "      <th>birth_date</th>\n",
       "      <th>first_name</th>\n",
       "      <th>last_name</th>\n",
       "      <th>gender</th>\n",
       "      <th>hire_date</th>\n",
       "    </tr>\n",
       "  </thead>\n",
       "  <tbody>\n",
       "    <tr>\n",
       "      <th>0</th>\n",
       "      <td>10001</td>\n",
       "      <td>1953-09-02</td>\n",
       "      <td>Georgi</td>\n",
       "      <td>Facello</td>\n",
       "      <td>M</td>\n",
       "      <td>1986-06-26</td>\n",
       "    </tr>\n",
       "    <tr>\n",
       "      <th>1</th>\n",
       "      <td>10002</td>\n",
       "      <td>1964-06-02</td>\n",
       "      <td>Bezalel</td>\n",
       "      <td>Simmel</td>\n",
       "      <td>F</td>\n",
       "      <td>1985-11-21</td>\n",
       "    </tr>\n",
       "    <tr>\n",
       "      <th>2</th>\n",
       "      <td>10003</td>\n",
       "      <td>1959-12-03</td>\n",
       "      <td>Parto</td>\n",
       "      <td>Bamford</td>\n",
       "      <td>M</td>\n",
       "      <td>1986-08-28</td>\n",
       "    </tr>\n",
       "    <tr>\n",
       "      <th>3</th>\n",
       "      <td>10004</td>\n",
       "      <td>1954-05-01</td>\n",
       "      <td>Chirstian</td>\n",
       "      <td>Koblick</td>\n",
       "      <td>M</td>\n",
       "      <td>1986-12-01</td>\n",
       "    </tr>\n",
       "    <tr>\n",
       "      <th>4</th>\n",
       "      <td>10005</td>\n",
       "      <td>1955-01-21</td>\n",
       "      <td>Kyoichi</td>\n",
       "      <td>Maliniak</td>\n",
       "      <td>M</td>\n",
       "      <td>1989-09-12</td>\n",
       "    </tr>\n",
       "  </tbody>\n",
       "</table>\n",
       "</div>"
      ],
      "text/plain": [
       "   emp_no  birth_date first_name last_name gender   hire_date\n",
       "0   10001  1953-09-02     Georgi   Facello      M  1986-06-26\n",
       "1   10002  1964-06-02    Bezalel    Simmel      F  1985-11-21\n",
       "2   10003  1959-12-03      Parto   Bamford      M  1986-08-28\n",
       "3   10004  1954-05-01  Chirstian   Koblick      M  1986-12-01\n",
       "4   10005  1955-01-21    Kyoichi  Maliniak      M  1989-09-12"
      ]
     },
     "execution_count": 40,
     "metadata": {},
     "output_type": "execute_result"
    }
   ],
   "source": [
    "from env import host, user, password\n",
    "\n",
    "def get_db_url(db_name):\n",
    "    from env import user, host, password\n",
    "    return f'mysql+pymysql://{user}:{password}@{host}/{db_name}'\n",
    "\n",
    "sql = \"\"\"\n",
    "    SELECT * from employees\n",
    "\"\"\"\n",
    "\n",
    "# Called the \"Connection string\" b/c it has all the info to connect\n",
    "url = get_db_url(\"employees\")\n",
    "df = pd.read_sql(sql, url)\n",
    "df.head()"
   ]
  },
  {
   "cell_type": "markdown",
   "id": "5ef46bb0",
   "metadata": {},
   "source": [
    "$H_o$: There is **no** linear correlation between how long an employee has been with the company and the number of titles they have had tenure and monthly charges \n",
    "\n",
    "$H_a$:There **is** linear correlation between tenure and monthly charges\n"
   ]
  },
  {
   "cell_type": "markdown",
   "id": "a5aad41d",
   "metadata": {},
   "source": [
    "## 2.2\n",
    "Is there a relationship between how long an employee has been with the company and the number of titles they have had?"
   ]
  },
  {
   "cell_type": "code",
   "execution_count": null,
   "id": "ace4208b",
   "metadata": {},
   "outputs": [],
   "source": []
  },
  {
   "cell_type": "markdown",
   "id": "82dc9e75",
   "metadata": {},
   "source": [
    "# 3\n",
    "Use the sleepstudy data.\n",
    "- Is there a relationship between days and reaction time?"
   ]
  },
  {
   "cell_type": "code",
   "execution_count": 41,
   "id": "92fe3d7c",
   "metadata": {},
   "outputs": [
    {
     "data": {
      "text/html": [
       "<div>\n",
       "<style scoped>\n",
       "    .dataframe tbody tr th:only-of-type {\n",
       "        vertical-align: middle;\n",
       "    }\n",
       "\n",
       "    .dataframe tbody tr th {\n",
       "        vertical-align: top;\n",
       "    }\n",
       "\n",
       "    .dataframe thead th {\n",
       "        text-align: right;\n",
       "    }\n",
       "</style>\n",
       "<table border=\"1\" class=\"dataframe\">\n",
       "  <thead>\n",
       "    <tr style=\"text-align: right;\">\n",
       "      <th></th>\n",
       "      <th>Reaction</th>\n",
       "      <th>Days</th>\n",
       "      <th>Subject</th>\n",
       "    </tr>\n",
       "  </thead>\n",
       "  <tbody>\n",
       "    <tr>\n",
       "      <th>1</th>\n",
       "      <td>249.5600</td>\n",
       "      <td>0</td>\n",
       "      <td>308</td>\n",
       "    </tr>\n",
       "    <tr>\n",
       "      <th>2</th>\n",
       "      <td>258.7047</td>\n",
       "      <td>1</td>\n",
       "      <td>308</td>\n",
       "    </tr>\n",
       "    <tr>\n",
       "      <th>3</th>\n",
       "      <td>250.8006</td>\n",
       "      <td>2</td>\n",
       "      <td>308</td>\n",
       "    </tr>\n",
       "    <tr>\n",
       "      <th>4</th>\n",
       "      <td>321.4398</td>\n",
       "      <td>3</td>\n",
       "      <td>308</td>\n",
       "    </tr>\n",
       "    <tr>\n",
       "      <th>5</th>\n",
       "      <td>356.8519</td>\n",
       "      <td>4</td>\n",
       "      <td>308</td>\n",
       "    </tr>\n",
       "  </tbody>\n",
       "</table>\n",
       "</div>"
      ],
      "text/plain": [
       "   Reaction  Days  Subject\n",
       "1  249.5600     0      308\n",
       "2  258.7047     1      308\n",
       "3  250.8006     2      308\n",
       "4  321.4398     3      308\n",
       "5  356.8519     4      308"
      ]
     },
     "execution_count": 41,
     "metadata": {},
     "output_type": "execute_result"
    }
   ],
   "source": [
    "from pydataset import data\n",
    "df = data(\"sleepstudy\")\n",
    "df.head()"
   ]
  },
  {
   "cell_type": "markdown",
   "id": "e9abb9c3",
   "metadata": {},
   "source": [
    "\n",
    "$H_o$: There is no linear correlation between days and reaction time\n",
    "\n",
    "$H_a$: There is a linear correlation between days and reaction time"
   ]
  },
  {
   "cell_type": "code",
   "execution_count": 42,
   "id": "e4a9cf38",
   "metadata": {},
   "outputs": [
    {
     "data": {
      "text/plain": [
       "(0.5352302262650253, 9.894096322214812e-15)"
      ]
     },
     "execution_count": 42,
     "metadata": {},
     "output_type": "execute_result"
    }
   ],
   "source": [
    "corr, p = stats.pearsonr(df.Days, df.Reaction)\n",
    "corr, p"
   ]
  },
  {
   "cell_type": "code",
   "execution_count": 43,
   "id": "89438c11",
   "metadata": {},
   "outputs": [
    {
     "name": "stdout",
     "output_type": "stream",
     "text": [
      "We reject the null hypothesis\n"
     ]
    }
   ],
   "source": [
    "if p < alpha:\n",
    "    print(\"We reject the null hypothesis\")\n",
    "else:\n",
    "    print(\"We fail to reject the null hypothesis\")"
   ]
  },
  {
   "cell_type": "markdown",
   "id": "bcdd29d6",
   "metadata": {},
   "source": [
    "# Chi Square ----> $\\chi2$"
   ]
  },
  {
   "cell_type": "markdown",
   "id": "9a692ef4",
   "metadata": {},
   "source": [
    "# 1\n",
    "Use the following contingency table to help answer the question of whether using a macbook and being a codeup student are independent of each other."
   ]
  },
  {
   "cell_type": "code",
   "execution_count": 44,
   "id": "defbd716",
   "metadata": {},
   "outputs": [
    {
     "data": {
      "text/html": [
       "<div>\n",
       "<style scoped>\n",
       "    .dataframe tbody tr th:only-of-type {\n",
       "        vertical-align: middle;\n",
       "    }\n",
       "\n",
       "    .dataframe tbody tr th {\n",
       "        vertical-align: top;\n",
       "    }\n",
       "\n",
       "    .dataframe thead th {\n",
       "        text-align: right;\n",
       "    }\n",
       "</style>\n",
       "<table border=\"1\" class=\"dataframe\">\n",
       "  <thead>\n",
       "    <tr style=\"text-align: right;\">\n",
       "      <th></th>\n",
       "      <th>Codeup Student\\t</th>\n",
       "      <th>Not Codeup Student</th>\n",
       "    </tr>\n",
       "  </thead>\n",
       "  <tbody>\n",
       "    <tr>\n",
       "      <th>Uses a Macbook</th>\n",
       "      <td>49</td>\n",
       "      <td>20</td>\n",
       "    </tr>\n",
       "    <tr>\n",
       "      <th>Doesn't Use A Macbook</th>\n",
       "      <td>1</td>\n",
       "      <td>30</td>\n",
       "    </tr>\n",
       "  </tbody>\n",
       "</table>\n",
       "</div>"
      ],
      "text/plain": [
       "                       Codeup Student\\t  Not Codeup Student\n",
       "Uses a Macbook                       49                  20\n",
       "Doesn't Use A Macbook                 1                  30"
      ]
     },
     "execution_count": 44,
     "metadata": {},
     "output_type": "execute_result"
    }
   ],
   "source": [
    "index = ['Uses a Macbook', \"Doesn't Use A Macbook\"]\n",
    "columns = ['Codeup Student\t', 'Not Codeup Student']\n",
    "\n",
    "observed = pd.DataFrame([[49, 20], [1, 30]], index=index, columns=columns)\n",
    "# n = observed.values.sum()\n",
    "observed"
   ]
  },
  {
   "cell_type": "code",
   "execution_count": 45,
   "id": "d5996e4e",
   "metadata": {},
   "outputs": [
    {
     "name": "stdout",
     "output_type": "stream",
     "text": [
      "Observed\n",
      "\n",
      "[[49 20]\n",
      " [ 1 30]]\n",
      "---\n",
      "Expected\n",
      "\n",
      "[[34.5 34.5]\n",
      " [15.5 15.5]]\n",
      "---\n",
      "\n",
      "chi^2 = 36.6526\n",
      "p     = 0.0000\n",
      "degf   =  1.00\n"
     ]
    }
   ],
   "source": [
    "chi2, p, degf, expected = stats.chi2_contingency(observed)\n",
    "print('Observed\\n')\n",
    "print(observed.values)\n",
    "print('---\\nExpected\\n')\n",
    "print(expected)\n",
    "print('---\\n')\n",
    "print(f'chi^2 = {chi2:.4f}')\n",
    "print(f'p     = {p:.4f}')\n",
    "print(f\"degf   = {degf: .2f}\")"
   ]
  },
  {
   "cell_type": "code",
   "execution_count": 46,
   "id": "ce0d9612",
   "metadata": {},
   "outputs": [
    {
     "name": "stdout",
     "output_type": "stream",
     "text": [
      "We reject the hypothesis. There is association.\n"
     ]
    }
   ],
   "source": [
    "if p < alpha:\n",
    "    print(\"We reject the hypothesis. There is association.\")\n",
    "else:\n",
    "    print(\"We fail to reject the null hypothesis\")"
   ]
  },
  {
   "cell_type": "markdown",
   "id": "97ee78c1",
   "metadata": {},
   "source": [
    "# 2\n",
    "Choose another 2 categorical variables from the `mpg` dataset and perform a $chi^2$ contingency table test with them. Be sure to state your null and alternative hypotheses."
   ]
  },
  {
   "cell_type": "code",
   "execution_count": 47,
   "id": "e414a5e6",
   "metadata": {},
   "outputs": [
    {
     "data": {
      "text/html": [
       "<div>\n",
       "<style scoped>\n",
       "    .dataframe tbody tr th:only-of-type {\n",
       "        vertical-align: middle;\n",
       "    }\n",
       "\n",
       "    .dataframe tbody tr th {\n",
       "        vertical-align: top;\n",
       "    }\n",
       "\n",
       "    .dataframe thead th {\n",
       "        text-align: right;\n",
       "    }\n",
       "</style>\n",
       "<table border=\"1\" class=\"dataframe\">\n",
       "  <thead>\n",
       "    <tr style=\"text-align: right;\">\n",
       "      <th></th>\n",
       "      <th>manufacturer</th>\n",
       "      <th>model</th>\n",
       "      <th>displ</th>\n",
       "      <th>year</th>\n",
       "      <th>cyl</th>\n",
       "      <th>trans</th>\n",
       "      <th>drv</th>\n",
       "      <th>cty</th>\n",
       "      <th>hwy</th>\n",
       "      <th>fl</th>\n",
       "      <th>class</th>\n",
       "      <th>avg_fuel</th>\n",
       "      <th>transmission_type</th>\n",
       "    </tr>\n",
       "  </thead>\n",
       "  <tbody>\n",
       "    <tr>\n",
       "      <th>1</th>\n",
       "      <td>audi</td>\n",
       "      <td>a4</td>\n",
       "      <td>1.8</td>\n",
       "      <td>1999</td>\n",
       "      <td>4</td>\n",
       "      <td>auto(l5)</td>\n",
       "      <td>f</td>\n",
       "      <td>18</td>\n",
       "      <td>29</td>\n",
       "      <td>p</td>\n",
       "      <td>compact</td>\n",
       "      <td>22.212766</td>\n",
       "      <td>Auto Transmission</td>\n",
       "    </tr>\n",
       "    <tr>\n",
       "      <th>2</th>\n",
       "      <td>audi</td>\n",
       "      <td>a4</td>\n",
       "      <td>1.8</td>\n",
       "      <td>1999</td>\n",
       "      <td>4</td>\n",
       "      <td>manual(m5)</td>\n",
       "      <td>f</td>\n",
       "      <td>21</td>\n",
       "      <td>29</td>\n",
       "      <td>p</td>\n",
       "      <td>compact</td>\n",
       "      <td>24.360000</td>\n",
       "      <td>Manual Transmission</td>\n",
       "    </tr>\n",
       "    <tr>\n",
       "      <th>3</th>\n",
       "      <td>audi</td>\n",
       "      <td>a4</td>\n",
       "      <td>2.0</td>\n",
       "      <td>2008</td>\n",
       "      <td>4</td>\n",
       "      <td>manual(m6)</td>\n",
       "      <td>f</td>\n",
       "      <td>20</td>\n",
       "      <td>31</td>\n",
       "      <td>p</td>\n",
       "      <td>compact</td>\n",
       "      <td>24.313725</td>\n",
       "      <td>Manual Transmission</td>\n",
       "    </tr>\n",
       "    <tr>\n",
       "      <th>4</th>\n",
       "      <td>audi</td>\n",
       "      <td>a4</td>\n",
       "      <td>2.0</td>\n",
       "      <td>2008</td>\n",
       "      <td>4</td>\n",
       "      <td>auto(av)</td>\n",
       "      <td>f</td>\n",
       "      <td>21</td>\n",
       "      <td>30</td>\n",
       "      <td>p</td>\n",
       "      <td>compact</td>\n",
       "      <td>24.705882</td>\n",
       "      <td>Auto Transmission</td>\n",
       "    </tr>\n",
       "    <tr>\n",
       "      <th>5</th>\n",
       "      <td>audi</td>\n",
       "      <td>a4</td>\n",
       "      <td>2.8</td>\n",
       "      <td>1999</td>\n",
       "      <td>6</td>\n",
       "      <td>auto(l5)</td>\n",
       "      <td>f</td>\n",
       "      <td>16</td>\n",
       "      <td>26</td>\n",
       "      <td>p</td>\n",
       "      <td>compact</td>\n",
       "      <td>19.809524</td>\n",
       "      <td>Auto Transmission</td>\n",
       "    </tr>\n",
       "  </tbody>\n",
       "</table>\n",
       "</div>"
      ],
      "text/plain": [
       "  manufacturer model  displ  year  cyl       trans drv  cty  hwy fl    class  \\\n",
       "1         audi    a4    1.8  1999    4    auto(l5)   f   18   29  p  compact   \n",
       "2         audi    a4    1.8  1999    4  manual(m5)   f   21   29  p  compact   \n",
       "3         audi    a4    2.0  2008    4  manual(m6)   f   20   31  p  compact   \n",
       "4         audi    a4    2.0  2008    4    auto(av)   f   21   30  p  compact   \n",
       "5         audi    a4    2.8  1999    6    auto(l5)   f   16   26  p  compact   \n",
       "\n",
       "    avg_fuel    transmission_type  \n",
       "1  22.212766    Auto Transmission  \n",
       "2  24.360000  Manual Transmission  \n",
       "3  24.313725  Manual Transmission  \n",
       "4  24.705882    Auto Transmission  \n",
       "5  19.809524    Auto Transmission  "
      ]
     },
     "execution_count": 47,
     "metadata": {},
     "output_type": "execute_result"
    }
   ],
   "source": [
    "mpg.head()"
   ]
  },
  {
   "cell_type": "code",
   "execution_count": 48,
   "id": "0edd313f",
   "metadata": {},
   "outputs": [
    {
     "data": {
      "text/html": [
       "<div>\n",
       "<style scoped>\n",
       "    .dataframe tbody tr th:only-of-type {\n",
       "        vertical-align: middle;\n",
       "    }\n",
       "\n",
       "    .dataframe tbody tr th {\n",
       "        vertical-align: top;\n",
       "    }\n",
       "\n",
       "    .dataframe thead th {\n",
       "        text-align: right;\n",
       "    }\n",
       "</style>\n",
       "<table border=\"1\" class=\"dataframe\">\n",
       "  <thead>\n",
       "    <tr style=\"text-align: right;\">\n",
       "      <th>trans</th>\n",
       "      <th>auto(av)</th>\n",
       "      <th>auto(l3)</th>\n",
       "      <th>auto(l4)</th>\n",
       "      <th>auto(l5)</th>\n",
       "      <th>auto(l6)</th>\n",
       "      <th>auto(s4)</th>\n",
       "      <th>auto(s5)</th>\n",
       "      <th>auto(s6)</th>\n",
       "      <th>manual(m5)</th>\n",
       "      <th>manual(m6)</th>\n",
       "    </tr>\n",
       "    <tr>\n",
       "      <th>manufacturer</th>\n",
       "      <th></th>\n",
       "      <th></th>\n",
       "      <th></th>\n",
       "      <th></th>\n",
       "      <th></th>\n",
       "      <th></th>\n",
       "      <th></th>\n",
       "      <th></th>\n",
       "      <th></th>\n",
       "      <th></th>\n",
       "    </tr>\n",
       "  </thead>\n",
       "  <tbody>\n",
       "    <tr>\n",
       "      <th>nissan</th>\n",
       "      <td>3</td>\n",
       "      <td>0</td>\n",
       "      <td>3</td>\n",
       "      <td>1</td>\n",
       "      <td>0</td>\n",
       "      <td>0</td>\n",
       "      <td>1</td>\n",
       "      <td>0</td>\n",
       "      <td>3</td>\n",
       "      <td>2</td>\n",
       "    </tr>\n",
       "    <tr>\n",
       "      <th>pontiac</th>\n",
       "      <td>0</td>\n",
       "      <td>0</td>\n",
       "      <td>4</td>\n",
       "      <td>0</td>\n",
       "      <td>0</td>\n",
       "      <td>1</td>\n",
       "      <td>0</td>\n",
       "      <td>0</td>\n",
       "      <td>0</td>\n",
       "      <td>0</td>\n",
       "    </tr>\n",
       "    <tr>\n",
       "      <th>subaru</th>\n",
       "      <td>0</td>\n",
       "      <td>0</td>\n",
       "      <td>5</td>\n",
       "      <td>0</td>\n",
       "      <td>0</td>\n",
       "      <td>2</td>\n",
       "      <td>0</td>\n",
       "      <td>0</td>\n",
       "      <td>7</td>\n",
       "      <td>0</td>\n",
       "    </tr>\n",
       "    <tr>\n",
       "      <th>toyota</th>\n",
       "      <td>0</td>\n",
       "      <td>1</td>\n",
       "      <td>11</td>\n",
       "      <td>4</td>\n",
       "      <td>0</td>\n",
       "      <td>0</td>\n",
       "      <td>2</td>\n",
       "      <td>2</td>\n",
       "      <td>13</td>\n",
       "      <td>1</td>\n",
       "    </tr>\n",
       "    <tr>\n",
       "      <th>volkswagen</th>\n",
       "      <td>0</td>\n",
       "      <td>0</td>\n",
       "      <td>5</td>\n",
       "      <td>2</td>\n",
       "      <td>0</td>\n",
       "      <td>0</td>\n",
       "      <td>0</td>\n",
       "      <td>6</td>\n",
       "      <td>11</td>\n",
       "      <td>3</td>\n",
       "    </tr>\n",
       "  </tbody>\n",
       "</table>\n",
       "</div>"
      ],
      "text/plain": [
       "trans         auto(av)  auto(l3)  auto(l4)  auto(l5)  auto(l6)  auto(s4)  \\\n",
       "manufacturer                                                               \n",
       "nissan               3         0         3         1         0         0   \n",
       "pontiac              0         0         4         0         0         1   \n",
       "subaru               0         0         5         0         0         2   \n",
       "toyota               0         1        11         4         0         0   \n",
       "volkswagen           0         0         5         2         0         0   \n",
       "\n",
       "trans         auto(s5)  auto(s6)  manual(m5)  manual(m6)  \n",
       "manufacturer                                              \n",
       "nissan               1         0           3           2  \n",
       "pontiac              0         0           0           0  \n",
       "subaru               0         0           7           0  \n",
       "toyota               2         2          13           1  \n",
       "volkswagen           0         6          11           3  "
      ]
     },
     "execution_count": 48,
     "metadata": {},
     "output_type": "execute_result"
    }
   ],
   "source": [
    "# pandas crosstab to make a 'contingency' table\n",
    "observed = pd.crosstab(mpg.manufacturer, mpg.trans)\n",
    "observed.tail()"
   ]
  },
  {
   "cell_type": "markdown",
   "id": "9287965b",
   "metadata": {},
   "source": [
    "\n",
    "- $H_0$: There is no relation between the car maker and transmission  (independence)\n",
    "- $H_a$: There is an association between the car maker and transmission"
   ]
  },
  {
   "cell_type": "code",
   "execution_count": 49,
   "id": "dc535f38",
   "metadata": {},
   "outputs": [
    {
     "name": "stdout",
     "output_type": "stream",
     "text": [
      "Observed\n",
      "\n",
      "[[ 2  0  0  5  0  0  0  4  4  3]\n",
      " [ 0  0 14  0  0  0  0  2  0  3]\n",
      " [ 0  1 16 11  2  0  0  0  3  4]\n",
      " [ 0  0 10  5  2  0  0  0  7  1]\n",
      " [ 0  0  2  2  0  0  0  0  4  1]\n",
      " [ 0  0  6  1  0  0  0  0  6  1]\n",
      " [ 0  0  2  6  0  0  0  0  0  0]\n",
      " [ 0  0  2  0  0  0  0  2  0  0]\n",
      " [ 0  0  2  0  1  0  0  0  0  0]\n",
      " [ 0  0  1  2  1  0  0  0  0  0]\n",
      " [ 3  0  3  1  0  0  1  0  3  2]\n",
      " [ 0  0  4  0  0  1  0  0  0  0]\n",
      " [ 0  0  5  0  0  2  0  0  7  0]\n",
      " [ 0  1 11  4  0  0  2  2 13  1]\n",
      " [ 0  0  5  2  0  0  0  6 11  3]]\n",
      "---\n",
      "Expected\n",
      "\n",
      "[[ 0.38461538  0.15384615  6.38461538  3.          0.46153846  0.23076923\n",
      "   0.23076923  1.23076923  4.46153846  1.46153846]\n",
      " [ 0.40598291  0.16239316  6.73931624  3.16666667  0.48717949  0.24358974\n",
      "   0.24358974  1.2991453   4.70940171  1.54273504]\n",
      " [ 0.79059829  0.31623932 13.12393162  6.16666667  0.94871795  0.47435897\n",
      "   0.47435897  2.52991453  9.17094017  3.0042735 ]\n",
      " [ 0.53418803  0.21367521  8.86752137  4.16666667  0.64102564  0.32051282\n",
      "   0.32051282  1.70940171  6.1965812   2.02991453]\n",
      " [ 0.19230769  0.07692308  3.19230769  1.5         0.23076923  0.11538462\n",
      "   0.11538462  0.61538462  2.23076923  0.73076923]\n",
      " [ 0.2991453   0.11965812  4.96581197  2.33333333  0.35897436  0.17948718\n",
      "   0.17948718  0.95726496  3.47008547  1.13675214]\n",
      " [ 0.17094017  0.06837607  2.83760684  1.33333333  0.20512821  0.1025641\n",
      "   0.1025641   0.54700855  1.98290598  0.64957265]\n",
      " [ 0.08547009  0.03418803  1.41880342  0.66666667  0.1025641   0.05128205\n",
      "   0.05128205  0.27350427  0.99145299  0.32478632]\n",
      " [ 0.06410256  0.02564103  1.06410256  0.5         0.07692308  0.03846154\n",
      "   0.03846154  0.20512821  0.74358974  0.24358974]\n",
      " [ 0.08547009  0.03418803  1.41880342  0.66666667  0.1025641   0.05128205\n",
      "   0.05128205  0.27350427  0.99145299  0.32478632]\n",
      " [ 0.27777778  0.11111111  4.61111111  2.16666667  0.33333333  0.16666667\n",
      "   0.16666667  0.88888889  3.22222222  1.05555556]\n",
      " [ 0.10683761  0.04273504  1.77350427  0.83333333  0.12820513  0.06410256\n",
      "   0.06410256  0.34188034  1.23931624  0.40598291]\n",
      " [ 0.2991453   0.11965812  4.96581197  2.33333333  0.35897436  0.17948718\n",
      "   0.17948718  0.95726496  3.47008547  1.13675214]\n",
      " [ 0.72649573  0.29059829 12.05982906  5.66666667  0.87179487  0.43589744\n",
      "   0.43589744  2.32478632  8.42735043  2.76068376]\n",
      " [ 0.57692308  0.23076923  9.57692308  4.5         0.69230769  0.34615385\n",
      "   0.34615385  1.84615385  6.69230769  2.19230769]]\n",
      "---\n",
      "\n",
      "chi^2 = 246.9191\n",
      "p     = 0.00000000071632038755\n",
      "dgf   =  126.00\n"
     ]
    }
   ],
   "source": [
    "chi2, p, degf, expected = stats.chi2_contingency(observed)\n",
    "print('Observed\\n')\n",
    "print(observed.values)\n",
    "print('---\\nExpected\\n')\n",
    "print(expected)\n",
    "print('---\\n')\n",
    "print(f'chi^2 = {chi2:.4f}')\n",
    "print(f'p     = {p:.20f}')\n",
    "print(f\"dgf   = {degf: .2f}\")"
   ]
  },
  {
   "cell_type": "code",
   "execution_count": 50,
   "id": "e8c00840",
   "metadata": {},
   "outputs": [
    {
     "name": "stdout",
     "output_type": "stream",
     "text": [
      "We reject the hypothesis. There is association.\n"
     ]
    }
   ],
   "source": [
    "if p < alpha:\n",
    "    print(\"We reject the hypothesis. There is association.\")\n",
    "else:\n",
    "    print(\"We fail to reject the null hypothesis, There is no association\")"
   ]
  },
  {
   "cell_type": "markdown",
   "id": "6a2fd3bd",
   "metadata": {},
   "source": [
    "# 3\n",
    "Use the data from the employees database to answer these questions:\n",
    "\n",
    "## 3.1\n",
    "\n",
    "Is an employee's gender independent of whether an employee works in sales or marketing? (only look at current employees)"
   ]
  },
  {
   "cell_type": "markdown",
   "id": "958f29c2",
   "metadata": {},
   "source": [
    "\n",
    "- $H_0$: There is no relation between the gender and that people work in Marketing or Sales  (independence)\n",
    "- $H_a$: There is an association between the gender and that people work in Marketing or Sales"
   ]
  },
  {
   "cell_type": "code",
   "execution_count": 51,
   "id": "f873a997",
   "metadata": {},
   "outputs": [
    {
     "data": {
      "text/html": [
       "<div>\n",
       "<style scoped>\n",
       "    .dataframe tbody tr th:only-of-type {\n",
       "        vertical-align: middle;\n",
       "    }\n",
       "\n",
       "    .dataframe tbody tr th {\n",
       "        vertical-align: top;\n",
       "    }\n",
       "\n",
       "    .dataframe thead th {\n",
       "        text-align: right;\n",
       "    }\n",
       "</style>\n",
       "<table border=\"1\" class=\"dataframe\">\n",
       "  <thead>\n",
       "    <tr style=\"text-align: right;\">\n",
       "      <th></th>\n",
       "      <th>gender</th>\n",
       "      <th>dept_name</th>\n",
       "    </tr>\n",
       "  </thead>\n",
       "  <tbody>\n",
       "    <tr>\n",
       "      <th>0</th>\n",
       "      <td>M</td>\n",
       "      <td>Customer Service</td>\n",
       "    </tr>\n",
       "    <tr>\n",
       "      <th>1</th>\n",
       "      <td>F</td>\n",
       "      <td>Customer Service</td>\n",
       "    </tr>\n",
       "    <tr>\n",
       "      <th>2</th>\n",
       "      <td>M</td>\n",
       "      <td>Customer Service</td>\n",
       "    </tr>\n",
       "    <tr>\n",
       "      <th>3</th>\n",
       "      <td>F</td>\n",
       "      <td>Customer Service</td>\n",
       "    </tr>\n",
       "    <tr>\n",
       "      <th>4</th>\n",
       "      <td>F</td>\n",
       "      <td>Customer Service</td>\n",
       "    </tr>\n",
       "    <tr>\n",
       "      <th>...</th>\n",
       "      <td>...</td>\n",
       "      <td>...</td>\n",
       "    </tr>\n",
       "    <tr>\n",
       "      <th>240119</th>\n",
       "      <td>F</td>\n",
       "      <td>Sales</td>\n",
       "    </tr>\n",
       "    <tr>\n",
       "      <th>240120</th>\n",
       "      <td>M</td>\n",
       "      <td>Sales</td>\n",
       "    </tr>\n",
       "    <tr>\n",
       "      <th>240121</th>\n",
       "      <td>M</td>\n",
       "      <td>Sales</td>\n",
       "    </tr>\n",
       "    <tr>\n",
       "      <th>240122</th>\n",
       "      <td>F</td>\n",
       "      <td>Sales</td>\n",
       "    </tr>\n",
       "    <tr>\n",
       "      <th>240123</th>\n",
       "      <td>F</td>\n",
       "      <td>Sales</td>\n",
       "    </tr>\n",
       "  </tbody>\n",
       "</table>\n",
       "<p>240124 rows × 2 columns</p>\n",
       "</div>"
      ],
      "text/plain": [
       "       gender         dept_name\n",
       "0           M  Customer Service\n",
       "1           F  Customer Service\n",
       "2           M  Customer Service\n",
       "3           F  Customer Service\n",
       "4           F  Customer Service\n",
       "...       ...               ...\n",
       "240119      F             Sales\n",
       "240120      M             Sales\n",
       "240121      M             Sales\n",
       "240122      F             Sales\n",
       "240123      F             Sales\n",
       "\n",
       "[240124 rows x 2 columns]"
      ]
     },
     "execution_count": 51,
     "metadata": {},
     "output_type": "execute_result"
    }
   ],
   "source": [
    "from env import host, user, password\n",
    "\n",
    "def get_db_url(db_name):\n",
    "    from env import user, host, password\n",
    "    return f'mysql+pymysql://{user}:{password}@{host}/{db_name}'\n",
    "\n",
    "sql = \"\"\"\n",
    "SELECT e.gender, d.dept_name\n",
    "FROM `employees` e\n",
    "INNER JOIN `dept_emp` de ON e.emp_no=de.emp_no\n",
    "JOIN `departments` d ON de.`dept_no`=d.`dept_no`\n",
    "AND to_date > CURDATE()\n",
    "\"\"\"\n",
    "\n",
    "# Called the \"Connection string\" b/c it has all the info to connect\n",
    "url = get_db_url(\"employees\")\n",
    "df = pd.read_sql(sql, url)\n",
    "df\n"
   ]
  },
  {
   "cell_type": "code",
   "execution_count": 52,
   "id": "a765b737",
   "metadata": {},
   "outputs": [],
   "source": [
    "m_and_s = df[(df['dept_name'] == \"Marketing\") | (df['dept_name'] == \"Sales\")]"
   ]
  },
  {
   "cell_type": "code",
   "execution_count": 53,
   "id": "7aedbe2d",
   "metadata": {},
   "outputs": [
    {
     "data": {
      "text/html": [
       "<div>\n",
       "<style scoped>\n",
       "    .dataframe tbody tr th:only-of-type {\n",
       "        vertical-align: middle;\n",
       "    }\n",
       "\n",
       "    .dataframe tbody tr th {\n",
       "        vertical-align: top;\n",
       "    }\n",
       "\n",
       "    .dataframe thead th {\n",
       "        text-align: right;\n",
       "    }\n",
       "</style>\n",
       "<table border=\"1\" class=\"dataframe\">\n",
       "  <thead>\n",
       "    <tr style=\"text-align: right;\">\n",
       "      <th>dept_name</th>\n",
       "      <th>Marketing</th>\n",
       "      <th>Sales</th>\n",
       "    </tr>\n",
       "    <tr>\n",
       "      <th>gender</th>\n",
       "      <th></th>\n",
       "      <th></th>\n",
       "    </tr>\n",
       "  </thead>\n",
       "  <tbody>\n",
       "    <tr>\n",
       "      <th>F</th>\n",
       "      <td>5864</td>\n",
       "      <td>14999</td>\n",
       "    </tr>\n",
       "    <tr>\n",
       "      <th>M</th>\n",
       "      <td>8978</td>\n",
       "      <td>22702</td>\n",
       "    </tr>\n",
       "  </tbody>\n",
       "</table>\n",
       "</div>"
      ],
      "text/plain": [
       "dept_name  Marketing  Sales\n",
       "gender                     \n",
       "F               5864  14999\n",
       "M               8978  22702"
      ]
     },
     "execution_count": 53,
     "metadata": {},
     "output_type": "execute_result"
    }
   ],
   "source": [
    "observed = pd.crosstab(m_and_s.gender, m_and_s.dept_name)\n",
    "observed"
   ]
  },
  {
   "cell_type": "code",
   "execution_count": 54,
   "id": "9bb64c9b",
   "metadata": {},
   "outputs": [
    {
     "name": "stdout",
     "output_type": "stream",
     "text": [
      "Observed\n",
      ":\n",
      "[[ 5864 14999]\n",
      " [ 8978 22702]]\n",
      "------------------------\n",
      "Expected: \n",
      "\n",
      "[[ 5893 14969]\n",
      " [ 8948 22731]]\n",
      "------------------------\n",
      "\n",
      "chi2 = 0.32\n",
      "p value: 0.56919\n"
     ]
    }
   ],
   "source": [
    "chi2, p, degf, expected = stats.chi2_contingency(observed)\n",
    "\n",
    "\n",
    "print('Observed\\n:')\n",
    "print(observed.values)\n",
    "print('------------------------\\nExpected: \\n')\n",
    "print(expected.astype(int))\n",
    "print('------------------------\\n')\n",
    "print(f'chi2 = {chi2:.2f}')\n",
    "print(f'p value: {p:.5f}')"
   ]
  },
  {
   "cell_type": "code",
   "execution_count": 55,
   "id": "6117336b",
   "metadata": {},
   "outputs": [
    {
     "name": "stdout",
     "output_type": "stream",
     "text": [
      "We fail to reject the null hypothesis\n"
     ]
    }
   ],
   "source": [
    "if p < alpha:\n",
    "      print('We can reject the null hypothesis')\n",
    "else:\n",
    "    print('We fail to reject the null hypothesis')\n"
   ]
  },
  {
   "cell_type": "markdown",
   "id": "2eb256c5",
   "metadata": {},
   "source": [
    "## 3.2\n",
    "Is an employee's gender independent of whether or not they are or have been a manager?"
   ]
  },
  {
   "cell_type": "markdown",
   "id": "a44957fe",
   "metadata": {},
   "source": [
    "\n",
    "- $H_0$: There is no relation between the gender and that people have been managers  (independence)\n",
    "- $H_a$: There is an association between the gender and that people have been managers"
   ]
  },
  {
   "cell_type": "code",
   "execution_count": 56,
   "id": "de27c3eb",
   "metadata": {},
   "outputs": [
    {
     "data": {
      "text/html": [
       "<div>\n",
       "<style scoped>\n",
       "    .dataframe tbody tr th:only-of-type {\n",
       "        vertical-align: middle;\n",
       "    }\n",
       "\n",
       "    .dataframe tbody tr th {\n",
       "        vertical-align: top;\n",
       "    }\n",
       "\n",
       "    .dataframe thead th {\n",
       "        text-align: right;\n",
       "    }\n",
       "</style>\n",
       "<table border=\"1\" class=\"dataframe\">\n",
       "  <thead>\n",
       "    <tr style=\"text-align: right;\">\n",
       "      <th></th>\n",
       "      <th>emp_no</th>\n",
       "      <th>gender</th>\n",
       "      <th>dept_no</th>\n",
       "    </tr>\n",
       "  </thead>\n",
       "  <tbody>\n",
       "    <tr>\n",
       "      <th>0</th>\n",
       "      <td>10001</td>\n",
       "      <td>M</td>\n",
       "      <td>None</td>\n",
       "    </tr>\n",
       "    <tr>\n",
       "      <th>1</th>\n",
       "      <td>10002</td>\n",
       "      <td>F</td>\n",
       "      <td>None</td>\n",
       "    </tr>\n",
       "    <tr>\n",
       "      <th>2</th>\n",
       "      <td>10003</td>\n",
       "      <td>M</td>\n",
       "      <td>None</td>\n",
       "    </tr>\n",
       "    <tr>\n",
       "      <th>3</th>\n",
       "      <td>10004</td>\n",
       "      <td>M</td>\n",
       "      <td>None</td>\n",
       "    </tr>\n",
       "    <tr>\n",
       "      <th>4</th>\n",
       "      <td>10005</td>\n",
       "      <td>M</td>\n",
       "      <td>None</td>\n",
       "    </tr>\n",
       "    <tr>\n",
       "      <th>...</th>\n",
       "      <td>...</td>\n",
       "      <td>...</td>\n",
       "      <td>...</td>\n",
       "    </tr>\n",
       "    <tr>\n",
       "      <th>300019</th>\n",
       "      <td>499995</td>\n",
       "      <td>F</td>\n",
       "      <td>None</td>\n",
       "    </tr>\n",
       "    <tr>\n",
       "      <th>300020</th>\n",
       "      <td>499996</td>\n",
       "      <td>M</td>\n",
       "      <td>None</td>\n",
       "    </tr>\n",
       "    <tr>\n",
       "      <th>300021</th>\n",
       "      <td>499997</td>\n",
       "      <td>M</td>\n",
       "      <td>None</td>\n",
       "    </tr>\n",
       "    <tr>\n",
       "      <th>300022</th>\n",
       "      <td>499998</td>\n",
       "      <td>M</td>\n",
       "      <td>None</td>\n",
       "    </tr>\n",
       "    <tr>\n",
       "      <th>300023</th>\n",
       "      <td>499999</td>\n",
       "      <td>M</td>\n",
       "      <td>None</td>\n",
       "    </tr>\n",
       "  </tbody>\n",
       "</table>\n",
       "<p>300024 rows × 3 columns</p>\n",
       "</div>"
      ],
      "text/plain": [
       "        emp_no gender dept_no\n",
       "0        10001      M    None\n",
       "1        10002      F    None\n",
       "2        10003      M    None\n",
       "3        10004      M    None\n",
       "4        10005      M    None\n",
       "...        ...    ...     ...\n",
       "300019  499995      F    None\n",
       "300020  499996      M    None\n",
       "300021  499997      M    None\n",
       "300022  499998      M    None\n",
       "300023  499999      M    None\n",
       "\n",
       "[300024 rows x 3 columns]"
      ]
     },
     "execution_count": 56,
     "metadata": {},
     "output_type": "execute_result"
    }
   ],
   "source": [
    "sql = \"\"\"\n",
    "SELECT e. emp_no, e.gender, dm.dept_no \n",
    "FROM `employees` e\n",
    "LEFT JOIN dept_manager dm ON e.emp_no=dm.emp_no\n",
    "\"\"\"\n",
    "\n",
    "# Called the \"Connection string\" b/c it has all the info to connect\n",
    "url = get_db_url(\"employees\")\n",
    "df = pd.read_sql(sql, url)\n",
    "df"
   ]
  },
  {
   "cell_type": "code",
   "execution_count": 57,
   "id": "6898866b",
   "metadata": {},
   "outputs": [
    {
     "data": {
      "text/html": [
       "<div>\n",
       "<style scoped>\n",
       "    .dataframe tbody tr th:only-of-type {\n",
       "        vertical-align: middle;\n",
       "    }\n",
       "\n",
       "    .dataframe tbody tr th {\n",
       "        vertical-align: top;\n",
       "    }\n",
       "\n",
       "    .dataframe thead th {\n",
       "        text-align: right;\n",
       "    }\n",
       "</style>\n",
       "<table border=\"1\" class=\"dataframe\">\n",
       "  <thead>\n",
       "    <tr style=\"text-align: right;\">\n",
       "      <th></th>\n",
       "      <th>emp_no</th>\n",
       "      <th>gender</th>\n",
       "      <th>dept_no</th>\n",
       "      <th>mgmt_str</th>\n",
       "      <th>manager</th>\n",
       "    </tr>\n",
       "  </thead>\n",
       "  <tbody>\n",
       "    <tr>\n",
       "      <th>0</th>\n",
       "      <td>10001</td>\n",
       "      <td>M</td>\n",
       "      <td>None</td>\n",
       "      <td>None</td>\n",
       "      <td>False</td>\n",
       "    </tr>\n",
       "    <tr>\n",
       "      <th>1</th>\n",
       "      <td>10002</td>\n",
       "      <td>F</td>\n",
       "      <td>None</td>\n",
       "      <td>None</td>\n",
       "      <td>False</td>\n",
       "    </tr>\n",
       "    <tr>\n",
       "      <th>2</th>\n",
       "      <td>10003</td>\n",
       "      <td>M</td>\n",
       "      <td>None</td>\n",
       "      <td>None</td>\n",
       "      <td>False</td>\n",
       "    </tr>\n",
       "    <tr>\n",
       "      <th>3</th>\n",
       "      <td>10004</td>\n",
       "      <td>M</td>\n",
       "      <td>None</td>\n",
       "      <td>None</td>\n",
       "      <td>False</td>\n",
       "    </tr>\n",
       "    <tr>\n",
       "      <th>4</th>\n",
       "      <td>10005</td>\n",
       "      <td>M</td>\n",
       "      <td>None</td>\n",
       "      <td>None</td>\n",
       "      <td>False</td>\n",
       "    </tr>\n",
       "    <tr>\n",
       "      <th>...</th>\n",
       "      <td>...</td>\n",
       "      <td>...</td>\n",
       "      <td>...</td>\n",
       "      <td>...</td>\n",
       "      <td>...</td>\n",
       "    </tr>\n",
       "    <tr>\n",
       "      <th>300019</th>\n",
       "      <td>499995</td>\n",
       "      <td>F</td>\n",
       "      <td>None</td>\n",
       "      <td>None</td>\n",
       "      <td>False</td>\n",
       "    </tr>\n",
       "    <tr>\n",
       "      <th>300020</th>\n",
       "      <td>499996</td>\n",
       "      <td>M</td>\n",
       "      <td>None</td>\n",
       "      <td>None</td>\n",
       "      <td>False</td>\n",
       "    </tr>\n",
       "    <tr>\n",
       "      <th>300021</th>\n",
       "      <td>499997</td>\n",
       "      <td>M</td>\n",
       "      <td>None</td>\n",
       "      <td>None</td>\n",
       "      <td>False</td>\n",
       "    </tr>\n",
       "    <tr>\n",
       "      <th>300022</th>\n",
       "      <td>499998</td>\n",
       "      <td>M</td>\n",
       "      <td>None</td>\n",
       "      <td>None</td>\n",
       "      <td>False</td>\n",
       "    </tr>\n",
       "    <tr>\n",
       "      <th>300023</th>\n",
       "      <td>499999</td>\n",
       "      <td>M</td>\n",
       "      <td>None</td>\n",
       "      <td>None</td>\n",
       "      <td>False</td>\n",
       "    </tr>\n",
       "  </tbody>\n",
       "</table>\n",
       "<p>300024 rows × 5 columns</p>\n",
       "</div>"
      ],
      "text/plain": [
       "        emp_no gender dept_no mgmt_str  manager\n",
       "0        10001      M    None     None    False\n",
       "1        10002      F    None     None    False\n",
       "2        10003      M    None     None    False\n",
       "3        10004      M    None     None    False\n",
       "4        10005      M    None     None    False\n",
       "...        ...    ...     ...      ...      ...\n",
       "300019  499995      F    None     None    False\n",
       "300020  499996      M    None     None    False\n",
       "300021  499997      M    None     None    False\n",
       "300022  499998      M    None     None    False\n",
       "300023  499999      M    None     None    False\n",
       "\n",
       "[300024 rows x 5 columns]"
      ]
     },
     "execution_count": 57,
     "metadata": {},
     "output_type": "execute_result"
    }
   ],
   "source": [
    "df['mgmt_str'] = df.dept_no.astype(str)\n",
    "df['manager'] = df.mgmt_str != 'None'\n",
    "df"
   ]
  },
  {
   "cell_type": "code",
   "execution_count": 58,
   "id": "3c4e0c42",
   "metadata": {},
   "outputs": [
    {
     "data": {
      "text/html": [
       "<div>\n",
       "<style scoped>\n",
       "    .dataframe tbody tr th:only-of-type {\n",
       "        vertical-align: middle;\n",
       "    }\n",
       "\n",
       "    .dataframe tbody tr th {\n",
       "        vertical-align: top;\n",
       "    }\n",
       "\n",
       "    .dataframe thead th {\n",
       "        text-align: right;\n",
       "    }\n",
       "</style>\n",
       "<table border=\"1\" class=\"dataframe\">\n",
       "  <thead>\n",
       "    <tr style=\"text-align: right;\">\n",
       "      <th>manager</th>\n",
       "      <th>False</th>\n",
       "      <th>True</th>\n",
       "    </tr>\n",
       "    <tr>\n",
       "      <th>gender</th>\n",
       "      <th></th>\n",
       "      <th></th>\n",
       "    </tr>\n",
       "  </thead>\n",
       "  <tbody>\n",
       "    <tr>\n",
       "      <th>F</th>\n",
       "      <td>120038</td>\n",
       "      <td>13</td>\n",
       "    </tr>\n",
       "    <tr>\n",
       "      <th>M</th>\n",
       "      <td>179962</td>\n",
       "      <td>11</td>\n",
       "    </tr>\n",
       "  </tbody>\n",
       "</table>\n",
       "</div>"
      ],
      "text/plain": [
       "manager   False  True \n",
       "gender                \n",
       "F        120038     13\n",
       "M        179962     11"
      ]
     },
     "execution_count": 58,
     "metadata": {},
     "output_type": "execute_result"
    }
   ],
   "source": [
    "observed = pd.crosstab(df.gender, df.manager)\n",
    "observed"
   ]
  },
  {
   "cell_type": "code",
   "execution_count": 59,
   "id": "ed183095",
   "metadata": {},
   "outputs": [
    {
     "name": "stdout",
     "output_type": "stream",
     "text": [
      "Observed\n",
      ":\n",
      "[[120038     13]\n",
      " [179962     11]]\n",
      "------------------------\n",
      "Expected: \n",
      "\n",
      "[[120041      9]\n",
      " [179958     14]]\n",
      "------------------------\n",
      "\n",
      "chi2 = 1.46\n",
      "p value: 0.22746\n"
     ]
    }
   ],
   "source": [
    "chi2, p, degf, expected = stats.chi2_contingency(observed)\n",
    "\n",
    "\n",
    "print('Observed\\n:')\n",
    "print(observed.values)\n",
    "print('------------------------\\nExpected: \\n')\n",
    "print(expected.astype(int))\n",
    "print('------------------------\\n')\n",
    "print(f'chi2 = {chi2:.2f}')\n",
    "print(f'p value: {p:.5f}')"
   ]
  },
  {
   "cell_type": "code",
   "execution_count": 60,
   "id": "ff48a624",
   "metadata": {},
   "outputs": [
    {
     "name": "stdout",
     "output_type": "stream",
     "text": [
      "We fail to reject the null hypothesis\n"
     ]
    }
   ],
   "source": [
    "if p < alpha:\n",
    "      print('We can reject the null hypothesis')\n",
    "else:\n",
    "    print('We fail to reject the null hypothesis')\n"
   ]
  }
 ],
 "metadata": {
  "kernelspec": {
   "display_name": "Python 3",
   "language": "python",
   "name": "python3"
  },
  "language_info": {
   "codemirror_mode": {
    "name": "ipython",
    "version": 3
   },
   "file_extension": ".py",
   "mimetype": "text/x-python",
   "name": "python",
   "nbconvert_exporter": "python",
   "pygments_lexer": "ipython3",
   "version": "3.8.8"
  }
 },
 "nbformat": 4,
 "nbformat_minor": 5
}
