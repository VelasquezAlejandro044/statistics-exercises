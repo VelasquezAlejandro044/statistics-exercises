{
 "cells": [
  {
   "cell_type": "markdown",
   "id": "0d4a5d41",
   "metadata": {},
   "source": [
    "# For each\n",
    "- formulate a null and alternative hypothesis (be as specific as you can be)\n",
    "-  give an example of what a true positive, true negative, type I and type II errors would look like\n",
    "\n",
    "*NOTE:* Note that some of the questions are intentionally phrased in a vague way. It is your job to reword these as more precise questions that could be tested."
   ]
  },
  {
   "cell_type": "markdown",
   "id": "3474ad45",
   "metadata": {},
   "source": [
    "# 1\n",
    "Has the network latency gone up since we switched internet service providers?"
   ]
  },
  {
   "cell_type": "markdown",
   "id": "56d01d69",
   "metadata": {},
   "source": [
    "- Null Hypothesis: Internet latency has gone up since we switched internet services.\n",
    "- Alternative Hypothesis: the internet is the same or worst as before.\n",
    "- Ture Positive: Latency should have gone up with the new provider. The new provider increased latency. \n",
    "- True Negative:  Latency should have gone up with the new provider. Latency has stated the same.\n",
    "- Type 1 error: Latency went up with the new provider. We don't think it is the new provider.\n",
    "- Type 2 error: Latancy has stated the same after the new switch. The new provider has increased latency. "
   ]
  },
  {
   "cell_type": "markdown",
   "id": "e096ec2c",
   "metadata": {},
   "source": [
    "# 2\n",
    "Is the website redesign any good?"
   ]
  },
  {
   "cell_type": "markdown",
   "id": "ebae39cc",
   "metadata": {},
   "source": [
    "- Null Hypothesis: Customers stay longer on the website\n",
    "- Alternative Hypothesis: people spend the same amount of time on the website as before\n",
    "- Ture Positive: New page should increase time on our website. It did.  \n",
    "- True Negative: New page should increase time on our website. It did not.\n",
    "- Type 1 error: The page does not make customers stay longer on the website. It did\n",
    "- Type 2 error: Customers remain longer on the website. The new website had nothing to do with it. "
   ]
  },
  {
   "cell_type": "markdown",
   "id": "e3e9ee51",
   "metadata": {},
   "source": [
    "# 3\n",
    "\n",
    "Is our television ad driving more sales?"
   ]
  },
  {
   "cell_type": "markdown",
   "id": "8a5b71fa",
   "metadata": {},
   "source": [
    "- Null Hypothesis: The item sold has seen a three percent increase in sales after Super Bowl add\n",
    "- Alternative Hypothesis:  After the Super Bowl add, the product saw an increase of 1% or less\n",
    "- Ture Positive:  Sales have increased 4%. We believe it is because of the Super Bowl ad.\n",
    "- True Negative: Item sold has seen an increase of sales 5%. Add has not had its day view on tv \n",
    "- Type 1 error: Sales have gone up over 3% since the commercial. We think that sales don't have anything to do with commercials.\n",
    "- Type 2 error: The item sold did not see a three percent increase, but we think that the commercial is driving sales of the product"
   ]
  },
  {
   "cell_type": "code",
   "execution_count": null,
   "id": "5194aa5c",
   "metadata": {},
   "outputs": [],
   "source": []
  }
 ],
 "metadata": {
  "kernelspec": {
   "display_name": "Python 3",
   "language": "python",
   "name": "python3"
  },
  "language_info": {
   "codemirror_mode": {
    "name": "ipython",
    "version": 3
   },
   "file_extension": ".py",
   "mimetype": "text/x-python",
   "name": "python",
   "nbconvert_exporter": "python",
   "pygments_lexer": "ipython3",
   "version": "3.8.8"
  }
 },
 "nbformat": 4,
 "nbformat_minor": 5
}
